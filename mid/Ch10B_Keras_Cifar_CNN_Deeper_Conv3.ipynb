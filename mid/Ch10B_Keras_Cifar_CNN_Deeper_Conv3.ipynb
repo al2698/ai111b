{
  "cells": [
    {
      "cell_type": "markdown",
      "metadata": {
        "id": "UTGhguV2cBg7"
      },
      "source": [
        "# 1. Import Library"
      ]
    },
    {
      "cell_type": "code",
      "execution_count": null,
      "metadata": {
        "id": "jKw4Gz3gcBg-"
      },
      "outputs": [],
      "source": [
        "# Simple CNN model for the CIFAR-10 Dataset\n",
        "import numpy\n",
        "from keras.datasets import cifar10\n",
        "import numpy as np\n",
        "np.random.seed(10)"
      ]
    },
    {
      "cell_type": "markdown",
      "metadata": {
        "id": "SouqsJlpcBhA"
      },
      "source": [
        "# 數據準備"
      ]
    },
    {
      "cell_type": "code",
      "execution_count": null,
      "metadata": {
        "id": "tvZ2RniCcBhA"
      },
      "outputs": [],
      "source": [
        "(X_img_train, y_label_train), (X_img_test, y_label_test) = cifar10.load_data()"
      ]
    },
    {
      "cell_type": "code",
      "execution_count": null,
      "metadata": {
        "colab": {
          "base_uri": "https://localhost:8080/"
        },
        "id": "hxLQkGr_cBhB",
        "outputId": "0117165f-0daa-4661-975c-4a0cd7110876"
      },
      "outputs": [
        {
          "output_type": "stream",
          "name": "stdout",
          "text": [
            "train data: images: (50000, 32, 32, 3)  labels: (50000, 1)\n",
            "test  data: images: (10000, 32, 32, 3)  labels: (10000, 1)\n"
          ]
        }
      ],
      "source": [
        "print(\"train data:\",'images:',X_img_train.shape,\" labels:\",y_label_train.shape)\n",
        "print(\"test  data:\",'images:',X_img_test.shape ,\" labels:\",y_label_test.shape)"
      ]
    },
    {
      "cell_type": "code",
      "execution_count": null,
      "metadata": {
        "collapsed": true,
        "id": "qjihGCh8cBhB"
      },
      "outputs": [],
      "source": [
        "X_img_train_normalize = X_img_train.astype('float32') / 255.0\n",
        "X_img_test_normalize = X_img_test.astype('float32') / 255.0"
      ]
    },
    {
      "cell_type": "code",
      "execution_count": null,
      "metadata": {
        "id": "0ilSxiuzcBhC"
      },
      "outputs": [],
      "source": [
        "from keras.utils import np_utils\n",
        "y_label_train_OneHot = np_utils.to_categorical(y_label_train)\n",
        "y_label_test_OneHot = np_utils.to_categorical(y_label_test)"
      ]
    },
    {
      "cell_type": "code",
      "execution_count": null,
      "metadata": {
        "colab": {
          "base_uri": "https://localhost:8080/"
        },
        "id": "yJGfJHw8cBhC",
        "outputId": "33b91159-a3cb-4d30-f77d-13695a0b6ff9"
      },
      "outputs": [
        {
          "output_type": "execute_result",
          "data": {
            "text/plain": [
              "(10000, 10)"
            ]
          },
          "metadata": {},
          "execution_count": 40
        }
      ],
      "source": [
        "y_label_test_OneHot.shape"
      ]
    },
    {
      "cell_type": "markdown",
      "metadata": {
        "id": "OEj4Y_pzcBhC"
      },
      "source": [
        "# 建立模型"
      ]
    },
    {
      "cell_type": "code",
      "execution_count": null,
      "metadata": {
        "collapsed": true,
        "id": "xe_2qN0jcBhC"
      },
      "outputs": [],
      "source": [
        "from keras.models import Sequential\n",
        "from keras.layers import Dense, Dropout, Activation, Flatten\n",
        "from keras.layers import Conv2D, MaxPooling2D, ZeroPadding2D"
      ]
    },
    {
      "cell_type": "code",
      "execution_count": null,
      "metadata": {
        "collapsed": true,
        "id": "MQMG_piWcBhD"
      },
      "outputs": [],
      "source": [
        "model = Sequential()"
      ]
    },
    {
      "cell_type": "code",
      "execution_count": null,
      "metadata": {
        "collapsed": true,
        "id": "NY74tcAYcBhD"
      },
      "outputs": [],
      "source": [
        "#卷積層1與池化層1"
      ]
    },
    {
      "cell_type": "code",
      "execution_count": null,
      "metadata": {
        "collapsed": true,
        "id": "ob39qBzUcBhD"
      },
      "outputs": [],
      "source": [
        "model.add(Conv2D(filters=32,kernel_size=(3, 3),input_shape=(32, 32,3),\n",
        "                 activation='relu', padding='same'))\n",
        "model.add(Dropout(0.3))\n",
        "model.add(Conv2D(filters=32, kernel_size=(3, 3),\n",
        "                 activation='relu', padding='same'))\n",
        "model.add(MaxPooling2D(pool_size=(2, 2)))"
      ]
    },
    {
      "cell_type": "code",
      "execution_count": null,
      "metadata": {
        "collapsed": true,
        "id": "wc4b-klWcBhD"
      },
      "outputs": [],
      "source": [
        "#卷積層2與池化層2"
      ]
    },
    {
      "cell_type": "code",
      "execution_count": null,
      "metadata": {
        "collapsed": true,
        "id": "DIYRsS2RcBhD"
      },
      "outputs": [],
      "source": [
        "model.add(Conv2D(filters=64, kernel_size=(3, 3),\n",
        "                 activation='relu', padding='same'))\n",
        "model.add(Dropout(0.3))\n",
        "model.add(Conv2D(filters=64, kernel_size=(3, 3),\n",
        "                 activation='relu', padding='same'))\n",
        "model.add(MaxPooling2D(pool_size=(2, 2)))"
      ]
    },
    {
      "cell_type": "code",
      "execution_count": null,
      "metadata": {
        "collapsed": true,
        "id": "BIDlu4JccBhE"
      },
      "outputs": [],
      "source": [
        "#卷積層3與池化層3"
      ]
    },
    {
      "cell_type": "code",
      "execution_count": null,
      "metadata": {
        "collapsed": true,
        "id": "MQg6mVjqcBhE"
      },
      "outputs": [],
      "source": [
        "model.add(Conv2D(filters=128, kernel_size=(3, 3),\n",
        "                 activation='relu', padding='same'))\n",
        "model.add(Dropout(0.3))\n",
        "model.add(Conv2D(filters=128, kernel_size=(3, 3),\n",
        "                 activation='relu', padding='same'))\n",
        "model.add(MaxPooling2D(pool_size=(2, 2)))"
      ]
    },
    {
      "cell_type": "code",
      "execution_count": null,
      "metadata": {
        "collapsed": true,
        "id": "9sRYf5fScBhE"
      },
      "outputs": [],
      "source": [
        "#建立神經網絡(平坦層、隱藏層、輸出層)"
      ]
    },
    {
      "cell_type": "code",
      "execution_count": null,
      "metadata": {
        "collapsed": true,
        "id": "hQxD48GacBhE"
      },
      "outputs": [],
      "source": [
        "model.add(Flatten())\n",
        "model.add(Dropout(0.3))\n",
        "model.add(Dense(2500, activation='relu'))\n",
        "model.add(Dropout(0.3))\n",
        "model.add(Dense(1500, activation='relu'))\n",
        "model.add(Dropout(0.3))\n",
        "model.add(Dense(10, activation='softmax'))"
      ]
    },
    {
      "cell_type": "code",
      "execution_count": null,
      "metadata": {
        "colab": {
          "base_uri": "https://localhost:8080/"
        },
        "id": "Ks_h-96_cBhE",
        "outputId": "6f1be27c-acfe-42ce-ec87-3d962758ade7"
      },
      "outputs": [
        {
          "output_type": "stream",
          "name": "stdout",
          "text": [
            "Model: \"sequential_1\"\n",
            "_________________________________________________________________\n",
            " Layer (type)                Output Shape              Param #   \n",
            "=================================================================\n",
            " conv2d_6 (Conv2D)           (None, 32, 32, 32)        896       \n",
            "                                                                 \n",
            " dropout_6 (Dropout)         (None, 32, 32, 32)        0         \n",
            "                                                                 \n",
            " conv2d_7 (Conv2D)           (None, 32, 32, 32)        9248      \n",
            "                                                                 \n",
            " max_pooling2d_3 (MaxPooling  (None, 16, 16, 32)       0         \n",
            " 2D)                                                             \n",
            "                                                                 \n",
            " conv2d_8 (Conv2D)           (None, 16, 16, 64)        18496     \n",
            "                                                                 \n",
            " dropout_7 (Dropout)         (None, 16, 16, 64)        0         \n",
            "                                                                 \n",
            " conv2d_9 (Conv2D)           (None, 16, 16, 64)        36928     \n",
            "                                                                 \n",
            " max_pooling2d_4 (MaxPooling  (None, 8, 8, 64)         0         \n",
            " 2D)                                                             \n",
            "                                                                 \n",
            " conv2d_10 (Conv2D)          (None, 8, 8, 128)         73856     \n",
            "                                                                 \n",
            " dropout_8 (Dropout)         (None, 8, 8, 128)         0         \n",
            "                                                                 \n",
            " conv2d_11 (Conv2D)          (None, 8, 8, 128)         147584    \n",
            "                                                                 \n",
            " max_pooling2d_5 (MaxPooling  (None, 4, 4, 128)        0         \n",
            " 2D)                                                             \n",
            "                                                                 \n",
            " flatten_1 (Flatten)         (None, 2048)              0         \n",
            "                                                                 \n",
            " dropout_9 (Dropout)         (None, 2048)              0         \n",
            "                                                                 \n",
            " dense_3 (Dense)             (None, 2500)              5122500   \n",
            "                                                                 \n",
            " dropout_10 (Dropout)        (None, 2500)              0         \n",
            "                                                                 \n",
            " dense_4 (Dense)             (None, 1500)              3751500   \n",
            "                                                                 \n",
            " dropout_11 (Dropout)        (None, 1500)              0         \n",
            "                                                                 \n",
            " dense_5 (Dense)             (None, 10)                15010     \n",
            "                                                                 \n",
            "=================================================================\n",
            "Total params: 9,176,018\n",
            "Trainable params: 9,176,018\n",
            "Non-trainable params: 0\n",
            "_________________________________________________________________\n",
            "None\n"
          ]
        }
      ],
      "source": [
        "print(model.summary())"
      ]
    },
    {
      "cell_type": "markdown",
      "metadata": {
        "id": "AMeeLHJrcBhF"
      },
      "source": [
        "# 加載之前訓練的模型"
      ]
    },
    {
      "cell_type": "code",
      "execution_count": null,
      "metadata": {
        "id": "WtN5jP7rcBhF",
        "colab": {
          "base_uri": "https://localhost:8080/"
        },
        "outputId": "528d8df2-f13f-4abc-b669-7f184f90f72d"
      },
      "outputs": [
        {
          "output_type": "stream",
          "name": "stdout",
          "text": [
            "加載模型失敗!開始訓練一個新模型\n"
          ]
        }
      ],
      "source": [
        "try:\n",
        "    model.load_weights(\"SaveModel/cifarCnnModelnew.h1\")\n",
        "    print(\"加載模型成功!繼續訓練模型\")\n",
        "except :\n",
        "    print(\"加載模型失敗!開始訓練一個新模型\")"
      ]
    },
    {
      "cell_type": "markdown",
      "metadata": {
        "id": "aZK16t7AcBhF"
      },
      "source": [
        "# 训练模型"
      ]
    },
    {
      "cell_type": "code",
      "execution_count": null,
      "metadata": {
        "collapsed": true,
        "id": "8gB6opk-cBhF"
      },
      "outputs": [],
      "source": [
        "model.compile(loss='categorical_crossentropy', optimizer='adam',\n",
        "              metrics=['accuracy'])"
      ]
    },
    {
      "cell_type": "code",
      "execution_count": null,
      "metadata": {
        "colab": {
          "base_uri": "https://localhost:8080/"
        },
        "id": "8WDIpKTqcBhF",
        "outputId": "86007a68-cbe4-44c5-a340-7a53c3658e5f"
      },
      "outputs": [
        {
          "output_type": "stream",
          "name": "stdout",
          "text": [
            "313/313 [==============================] - 415s 1s/step - loss: 1.8144 - accuracy: 0.3243 - val_loss: 1.5963 - val_accuracy: 0.4198\n"
          ]
        }
      ],
      "source": [
        "train_history=model.fit(X_img_train_normalize, y_label_train_OneHot,\n",
        "                        validation_split=0.2,\n",
        "                        epochs=1, batch_size=256, verbose=1)"
      ]
    },
    {
      "cell_type": "code",
      "source": [
        "from google.colab import drive\n",
        "drive.mount('/content/drive')"
      ],
      "metadata": {
        "id": "3_2hvkcRS04f",
        "colab": {
          "base_uri": "https://localhost:8080/"
        },
        "outputId": "ea3e6555-2136-4d27-fae5-78541e8910f5"
      },
      "execution_count": null,
      "outputs": [
        {
          "output_type": "stream",
          "name": "stdout",
          "text": [
            "Mounted at /content/drive\n"
          ]
        }
      ]
    },
    {
      "cell_type": "code",
      "execution_count": null,
      "metadata": {
        "collapsed": true,
        "id": "fFbqELkFcBhG"
      },
      "outputs": [],
      "source": [
        "import matplotlib.pyplot as plt\n",
        "def show_train_history(train_acc,test_acc):\n",
        "    plt.plot(train_history.history[train_acc])\n",
        "    plt.plot(train_history.history[test_acc])\n",
        "    plt.title('Train History')\n",
        "    plt.ylabel('Accuracy')\n",
        "    plt.xlabel('Epoch')\n",
        "    plt.legend(['train', 'test'], loc='upper left')\n",
        "    plt.show()"
      ]
    },
    {
      "cell_type": "code",
      "execution_count": null,
      "metadata": {
        "colab": {
          "base_uri": "https://localhost:8080/",
          "height": 472
        },
        "id": "gxCN7vgwcBhG",
        "outputId": "02bd1128-5892-495c-af95-8d2871b950ba"
      },
      "outputs": [
        {
          "output_type": "display_data",
          "data": {
            "text/plain": [
              "<Figure size 640x480 with 1 Axes>"
            ],
            "image/png": "[encoded data removed]"
          },
          "metadata": {}
        }
      ],
      "source": [
        "show_train_history('accuracy','val_accuracy')"
      ]
    },
    {
      "cell_type": "code",
      "execution_count": null,
      "metadata": {
        "colab": {
          "base_uri": "https://localhost:8080/",
          "height": 472
        },
        "id": "FHaPEaTXcBhG",
        "outputId": "7361b533-8d19-40f3-9790-d005a334bf28"
      },
      "outputs": [
        {
          "output_type": "display_data",
          "data": {
            "text/plain": [
              "<Figure size 640x480 with 1 Axes>"
            ],
            "image/png": "[encoded data removed]"
          },
          "metadata": {}
        }
      ],
      "source": [
        "show_train_history('loss','val_loss')"
      ]
    },
    {
      "cell_type": "markdown",
      "metadata": {
        "id": "jiFX8mgTcBhG"
      },
      "source": [
        "# 评估模型的准确率"
      ]
    },
    {
      "cell_type": "code",
      "execution_count": null,
      "metadata": {
        "id": "cmkp0TZYcBhG",
        "colab": {
          "base_uri": "https://localhost:8080/"
        },
        "outputId": "5c7d25f2-672c-4886-dd34-61880270853b"
      },
      "outputs": [
        {
          "output_type": "execute_result",
          "data": {
            "text/plain": [
              "0.42419999837875366"
            ]
          },
          "metadata": {},
          "execution_count": 59
        }
      ],
      "source": [
        "scores = model.evaluate(X_img_test_normalize,\n",
        "                        y_label_test_OneHot,verbose=0)\n",
        "scores[1]"
      ]
    },
    {
      "cell_type": "markdown",
      "metadata": {
        "id": "r5uGQtDMcBhH"
      },
      "source": [
        "# 进行预测"
      ]
    },
    {
      "cell_type": "code",
      "execution_count": null,
      "metadata": {
        "id": "qYEBrpckcBhH",
        "colab": {
          "base_uri": "https://localhost:8080/"
        },
        "outputId": "22f57479-3973-4903-ca55-c5e0d30f7128"
      },
      "outputs": [
        {
          "output_type": "stream",
          "name": "stdout",
          "text": [
            "313/313 [==============================] - 26s 84ms/step\n"
          ]
        }
      ],
      "source": [
        "prediction=np.argmax(model.predict(X_img_test_normalize),axis=1)"
      ]
    },
    {
      "cell_type": "code",
      "execution_count": null,
      "metadata": {
        "id": "Frv_fkobcBhH",
        "colab": {
          "base_uri": "https://localhost:8080/"
        },
        "outputId": "fdf31a14-8390-4010-9c9b-93e8ec0a024f"
      },
      "outputs": [
        {
          "output_type": "execute_result",
          "data": {
            "text/plain": [
              "array([3, 8, 8, 8, 4, 6, 1, 6, 5, 1])"
            ]
          },
          "metadata": {},
          "execution_count": 61
        }
      ],
      "source": [
        "prediction[:10]"
      ]
    },
    {
      "cell_type": "code",
      "execution_count": null,
      "metadata": {
        "collapsed": true,
        "id": "Xv12_M3bcBhH"
      },
      "outputs": [],
      "source": [
        "label_dict={0:\"airplane\",1:\"automobile\",2:\"bird\",3:\"cat\",4:\"deer\",\n",
        "            5:\"dog\",6:\"frog\",7:\"horse\",8:\"ship\",9:\"truck\"}"
      ]
    },
    {
      "cell_type": "code",
      "execution_count": null,
      "metadata": {
        "id": "krnkseCrcBhH"
      },
      "outputs": [],
      "source": [
        "import matplotlib.pyplot as plt\n",
        "def plot_images_labels_prediction(images,labels,prediction,\n",
        "                                  idx,num=10):\n",
        "    fig = plt.gcf()\n",
        "    fig.set_size_inches(12, 14)\n",
        "    if num>25: num=25\n",
        "    for i in range(0, num):\n",
        "        ax=plt.subplot(5,5, 1+i)\n",
        "        ax.imshow(images[idx],cmap='binary')\n",
        "\n",
        "        title=str(i)+','+label_dict[labels[i][0]]\n",
        "        if len(prediction)>0:\n",
        "            title+='=>'+label_dict[prediction[i]]\n",
        "\n",
        "        ax.set_title(title,fontsize=10)\n",
        "        ax.set_xticks([]);ax.set_yticks([])\n",
        "        idx+=1\n",
        "    plt.show()"
      ]
    },
    {
      "cell_type": "code",
      "execution_count": null,
      "metadata": {
        "id": "1uJbg9L9cBhI",
        "colab": {
          "base_uri": "https://localhost:8080/",
          "height": 439
        },
        "outputId": "61680c4e-7ccc-4106-8731-70bf82be7e6c"
      },
      "outputs": [
        {
          "output_type": "display_data",
          "data": {
            "text/plain": [
              "<Figure size 1200x1400 with 10 Axes>"
            ],
            "image/png": "[encoded data removed]"
          },
          "metadata": {}
        }
      ],
      "source": [
        "plot_images_labels_prediction(X_img_test_normalize,y_label_test,\n",
        "                              prediction,0,10)"
      ]
    },
    {
      "cell_type": "markdown",
      "metadata": {
        "id": "6O7WILQIcBhI"
      },
      "source": [
        "# 查看预测概率"
      ]
    },
    {
      "cell_type": "code",
      "execution_count": null,
      "metadata": {
        "collapsed": true,
        "id": "BSECFNiDcBhI",
        "colab": {
          "base_uri": "https://localhost:8080/"
        },
        "outputId": "3cf9ee52-2c75-4249-f570-76534c7ac48e"
      },
      "outputs": [
        {
          "output_type": "stream",
          "name": "stdout",
          "text": [
            "313/313 [==============================] - 26s 84ms/step\n"
          ]
        }
      ],
      "source": [
        "Predicted_Probability=model.predict(X_img_test_normalize)"
      ]
    },
    {
      "cell_type": "code",
      "execution_count": null,
      "metadata": {
        "collapsed": true,
        "id": "lwhjIM3hcBhI"
      },
      "outputs": [],
      "source": [
        "def show_Predicted_Probability(X_img,Predicted_Probability,i):\n",
        "    plt.figure(figsize=(2,2))\n",
        "    plt.imshow(np.reshape(X_img_test[i],(32, 32,3)))\n",
        "    plt.show()\n",
        "    for j in range(10):\n",
        "        print(label_dict[j]+' Probability:%1.9f'%(Predicted_Probability[i][j]))"
      ]
    },
    {
      "cell_type": "code",
      "execution_count": null,
      "metadata": {
        "id": "bezUSjmscBhI",
        "colab": {
          "base_uri": "https://localhost:8080/",
          "height": 391
        },
        "outputId": "3783ef1e-1b8d-4f4f-b09b-e52ecd26b040"
      },
      "outputs": [
        {
          "output_type": "display_data",
          "data": {
            "text/plain": [
              "<Figure size 200x200 with 1 Axes>"
            ],
            "image/png": "[encoded data removed]"
          },
          "metadata": {}
        },
        {
          "output_type": "stream",
          "name": "stdout",
          "text": [
            "airplane Probability:0.012397978\n",
            "automobile Probability:0.006643432\n",
            "bird Probability:0.058784213\n",
            "cat Probability:0.425236851\n",
            "deer Probability:0.047274545\n",
            "dog Probability:0.212032318\n",
            "frog Probability:0.182628810\n",
            "horse Probability:0.028015340\n",
            "ship Probability:0.018555010\n",
            "truck Probability:0.008431533\n"
          ]
        }
      ],
      "source": [
        "show_Predicted_Probability(X_img_test,Predicted_Probability,0)"
      ]
    },
    {
      "cell_type": "code",
      "execution_count": null,
      "metadata": {
        "id": "P6P2z_8NcBhI",
        "colab": {
          "base_uri": "https://localhost:8080/",
          "height": 391
        },
        "outputId": "b059738c-4e1e-4b24-fbb4-4e3bfa51d4a5"
      },
      "outputs": [
        {
          "output_type": "display_data",
          "data": {
            "text/plain": [
              "<Figure size 200x200 with 1 Axes>"
            ],
            "image/png": "[encoded data removed]"
          },
          "metadata": {}
        },
        {
          "output_type": "stream",
          "name": "stdout",
          "text": [
            "airplane Probability:0.177999169\n",
            "automobile Probability:0.037169755\n",
            "bird Probability:0.027416427\n",
            "cat Probability:0.016649036\n",
            "deer Probability:0.014848973\n",
            "dog Probability:0.005721856\n",
            "frog Probability:0.008076921\n",
            "horse Probability:0.004653902\n",
            "ship Probability:0.677868247\n",
            "truck Probability:0.029595794\n"
          ]
        }
      ],
      "source": [
        "show_Predicted_Probability(X_img_test,Predicted_Probability,3)"
      ]
    },
    {
      "cell_type": "markdown",
      "metadata": {
        "id": "BhswhrA-cBhJ"
      },
      "source": [
        "# Save Weight to h5"
      ]
    },
    {
      "cell_type": "code",
      "execution_count": null,
      "metadata": {
        "id": "NCYaJijHcBhJ",
        "colab": {
          "base_uri": "https://localhost:8080/"
        },
        "outputId": "ae5fc2f7-1031-415a-a84b-197cc9510b57"
      },
      "outputs": [
        {
          "output_type": "stream",
          "name": "stdout",
          "text": [
            "Saved model to disk\n"
          ]
        }
      ],
      "source": [
        "model.save_weights(\"SaveModel/cifarCnnModelnew.h1\")\n",
        "print(\"Saved model to disk\")"
      ]
    }
  ],
  "metadata": {
    "anaconda-cloud": {},
    "kernelspec": {
      "display_name": "Python 3",
      "language": "python",
      "name": "python3"
    },
    "language_info": {
      "codemirror_mode": {
        "name": "ipython",
        "version": 3
      },
      "file_extension": ".py",
      "mimetype": "text/x-python",
      "name": "python",
      "nbconvert_exporter": "python",
      "pygments_lexer": "ipython3",
      "version": "3.5.3"
    },
    "colab": {
      "provenance": []
    }
  },
  "nbformat": 4,
  "nbformat_minor": 0
}