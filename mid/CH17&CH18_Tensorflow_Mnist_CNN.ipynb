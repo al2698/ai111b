{
  "cells": [
    {
      "cell_type": "code",
      "source": [
        "!pip install tensorflow==2.12.0"
      ],
      "metadata": {
        "colab": {
          "base_uri": "https://localhost:8080/"
        },
        "id": "EvQ_BaXe_abu",
        "outputId": "5e327289-5a45-4cf4-ab04-df1b839d0683"
      },
      "execution_count": 39,
      "outputs": [
        {
          "output_type": "stream",
          "name": "stdout",
          "text": [
            "Looking in indexes: https://pypi.org/simple, https://us-python.pkg.dev/colab-wheels/public/simple/\n",
            "Requirement already satisfied: tensorflow==2.12.0 in /usr/local/lib/python3.10/dist-packages (2.12.0)\n",
            "Requirement already satisfied: absl-py>=1.0.0 in /usr/local/lib/python3.10/dist-packages (from tensorflow==2.12.0) (1.4.0)\n",
            "Requirement already satisfied: astunparse>=1.6.0 in /usr/local/lib/python3.10/dist-packages (from tensorflow==2.12.0) (1.6.3)\n",
            "Requirement already satisfied: flatbuffers>=2.0 in /usr/local/lib/python3.10/dist-packages (from tensorflow==2.12.0) (23.3.3)\n",
            "Requirement already satisfied: gast<=0.4.0,>=0.2.1 in /usr/local/lib/python3.10/dist-packages (from tensorflow==2.12.0) (0.4.0)\n",
            "Requirement already satisfied: google-pasta>=0.1.1 in /usr/local/lib/python3.10/dist-packages (from tensorflow==2.12.0) (0.2.0)\n",
            "Requirement already satisfied: grpcio<2.0,>=1.24.3 in /usr/local/lib/python3.10/dist-packages (from tensorflow==2.12.0) (1.54.0)\n",
            "Requirement already satisfied: h5py>=2.9.0 in /usr/local/lib/python3.10/dist-packages (from tensorflow==2.12.0) (3.8.0)\n",
            "Requirement already satisfied: jax>=0.3.15 in /usr/local/lib/python3.10/dist-packages (from tensorflow==2.12.0) (0.4.10)\n",
            "Requirement already satisfied: keras<2.13,>=2.12.0 in /usr/local/lib/python3.10/dist-packages (from tensorflow==2.12.0) (2.12.0)\n",
            "Requirement already satisfied: libclang>=13.0.0 in /usr/local/lib/python3.10/dist-packages (from tensorflow==2.12.0) (16.0.0)\n",
            "Requirement already satisfied: numpy<1.24,>=1.22 in /usr/local/lib/python3.10/dist-packages (from tensorflow==2.12.0) (1.22.4)\n",
            "Requirement already satisfied: opt-einsum>=2.3.2 in /usr/local/lib/python3.10/dist-packages (from tensorflow==2.12.0) (3.3.0)\n",
            "Requirement already satisfied: packaging in /usr/local/lib/python3.10/dist-packages (from tensorflow==2.12.0) (23.1)\n",
            "Requirement already satisfied: protobuf!=4.21.0,!=4.21.1,!=4.21.2,!=4.21.3,!=4.21.4,!=4.21.5,<5.0.0dev,>=3.20.3 in /usr/local/lib/python3.10/dist-packages (from tensorflow==2.12.0) (3.20.3)\n",
            "Requirement already satisfied: setuptools in /usr/local/lib/python3.10/dist-packages (from tensorflow==2.12.0) (67.7.2)\n",
            "Requirement already satisfied: six>=1.12.0 in /usr/local/lib/python3.10/dist-packages (from tensorflow==2.12.0) (1.16.0)\n",
            "Requirement already satisfied: tensorboard<2.13,>=2.12 in /usr/local/lib/python3.10/dist-packages (from tensorflow==2.12.0) (2.12.2)\n",
            "Requirement already satisfied: tensorflow-estimator<2.13,>=2.12.0 in /usr/local/lib/python3.10/dist-packages (from tensorflow==2.12.0) (2.12.0)\n",
            "Requirement already satisfied: termcolor>=1.1.0 in /usr/local/lib/python3.10/dist-packages (from tensorflow==2.12.0) (2.3.0)\n",
            "Requirement already satisfied: typing-extensions>=3.6.6 in /usr/local/lib/python3.10/dist-packages (from tensorflow==2.12.0) (4.5.0)\n",
            "Requirement already satisfied: wrapt<1.15,>=1.11.0 in /usr/local/lib/python3.10/dist-packages (from tensorflow==2.12.0) (1.14.1)\n",
            "Requirement already satisfied: tensorflow-io-gcs-filesystem>=0.23.1 in /usr/local/lib/python3.10/dist-packages (from tensorflow==2.12.0) (0.32.0)\n",
            "Requirement already satisfied: wheel<1.0,>=0.23.0 in /usr/local/lib/python3.10/dist-packages (from astunparse>=1.6.0->tensorflow==2.12.0) (0.40.0)\n",
            "Requirement already satisfied: ml-dtypes>=0.1.0 in /usr/local/lib/python3.10/dist-packages (from jax>=0.3.15->tensorflow==2.12.0) (0.1.0)\n",
            "Requirement already satisfied: scipy>=1.7 in /usr/local/lib/python3.10/dist-packages (from jax>=0.3.15->tensorflow==2.12.0) (1.10.1)\n",
            "Requirement already satisfied: google-auth<3,>=1.6.3 in /usr/local/lib/python3.10/dist-packages (from tensorboard<2.13,>=2.12->tensorflow==2.12.0) (2.17.3)\n",
            "Requirement already satisfied: google-auth-oauthlib<1.1,>=0.5 in /usr/local/lib/python3.10/dist-packages (from tensorboard<2.13,>=2.12->tensorflow==2.12.0) (1.0.0)\n",
            "Requirement already satisfied: markdown>=2.6.8 in /usr/local/lib/python3.10/dist-packages (from tensorboard<2.13,>=2.12->tensorflow==2.12.0) (3.4.3)\n",
            "Requirement already satisfied: requests<3,>=2.21.0 in /usr/local/lib/python3.10/dist-packages (from tensorboard<2.13,>=2.12->tensorflow==2.12.0) (2.27.1)\n",
            "Requirement already satisfied: tensorboard-data-server<0.8.0,>=0.7.0 in /usr/local/lib/python3.10/dist-packages (from tensorboard<2.13,>=2.12->tensorflow==2.12.0) (0.7.0)\n",
            "Requirement already satisfied: tensorboard-plugin-wit>=1.6.0 in /usr/local/lib/python3.10/dist-packages (from tensorboard<2.13,>=2.12->tensorflow==2.12.0) (1.8.1)\n",
            "Requirement already satisfied: werkzeug>=1.0.1 in /usr/local/lib/python3.10/dist-packages (from tensorboard<2.13,>=2.12->tensorflow==2.12.0) (2.3.0)\n",
            "Requirement already satisfied: cachetools<6.0,>=2.0.0 in /usr/local/lib/python3.10/dist-packages (from google-auth<3,>=1.6.3->tensorboard<2.13,>=2.12->tensorflow==2.12.0) (5.3.0)\n",
            "Requirement already satisfied: pyasn1-modules>=0.2.1 in /usr/local/lib/python3.10/dist-packages (from google-auth<3,>=1.6.3->tensorboard<2.13,>=2.12->tensorflow==2.12.0) (0.3.0)\n",
            "Requirement already satisfied: rsa<5,>=3.1.4 in /usr/local/lib/python3.10/dist-packages (from google-auth<3,>=1.6.3->tensorboard<2.13,>=2.12->tensorflow==2.12.0) (4.9)\n",
            "Requirement already satisfied: requests-oauthlib>=0.7.0 in /usr/local/lib/python3.10/dist-packages (from google-auth-oauthlib<1.1,>=0.5->tensorboard<2.13,>=2.12->tensorflow==2.12.0) (1.3.1)\n",
            "Requirement already satisfied: urllib3<1.27,>=1.21.1 in /usr/local/lib/python3.10/dist-packages (from requests<3,>=2.21.0->tensorboard<2.13,>=2.12->tensorflow==2.12.0) (1.26.15)\n",
            "Requirement already satisfied: certifi>=2017.4.17 in /usr/local/lib/python3.10/dist-packages (from requests<3,>=2.21.0->tensorboard<2.13,>=2.12->tensorflow==2.12.0) (2022.12.7)\n",
            "Requirement already satisfied: charset-normalizer~=2.0.0 in /usr/local/lib/python3.10/dist-packages (from requests<3,>=2.21.0->tensorboard<2.13,>=2.12->tensorflow==2.12.0) (2.0.12)\n",
            "Requirement already satisfied: idna<4,>=2.5 in /usr/local/lib/python3.10/dist-packages (from requests<3,>=2.21.0->tensorboard<2.13,>=2.12->tensorflow==2.12.0) (3.4)\n",
            "Requirement already satisfied: MarkupSafe>=2.1.1 in /usr/local/lib/python3.10/dist-packages (from werkzeug>=1.0.1->tensorboard<2.13,>=2.12->tensorflow==2.12.0) (2.1.2)\n",
            "Requirement already satisfied: pyasn1<0.6.0,>=0.4.6 in /usr/local/lib/python3.10/dist-packages (from pyasn1-modules>=0.2.1->google-auth<3,>=1.6.3->tensorboard<2.13,>=2.12->tensorflow==2.12.0) (0.5.0)\n",
            "Requirement already satisfied: oauthlib>=3.0.0 in /usr/local/lib/python3.10/dist-packages (from requests-oauthlib>=0.7.0->google-auth-oauthlib<1.1,>=0.5->tensorboard<2.13,>=2.12->tensorflow==2.12.0) (3.2.2)\n"
          ]
        }
      ]
    },
    {
      "cell_type": "code",
      "source": [
        "# import tensorflow_datasets as tfds\n",
        "# import matplotlib.pyplot as plt\n",
        "# dataset = tfds.load('mnist', download=True, as_supervised=True, split = 'train').batch(10)\n",
        "# image, label = next(iter(dataset))\n",
        "# fig, axes = plt.subplots(2,5,figsize=(15,6))\n",
        "# for idx, axe in enumerate(axes.flatten()):\n",
        "#     axe.axis('off')\n",
        "#     axe.set_title(f'label : {label[idx]}')\n",
        "#     axe.imshow(image[idx][...,0])\n",
        "# plt.show()"
      ],
      "metadata": {
        "id": "up9B6PHACBKq"
      },
      "execution_count": 40,
      "outputs": []
    },
    {
      "cell_type": "markdown",
      "metadata": {
        "id": "diGJekIs-402"
      },
      "source": [
        "# 数据准备"
      ]
    },
    {
      "cell_type": "code",
      "source": [
        "import os\n",
        "import urllib.request\n",
        "import gzip\n",
        "import numpy as np\n",
        "\n",
        "# 定义保存MNIST数据集的目录\n",
        "data_dir = \"MNIST_data/\"\n",
        "\n",
        "# 创建目录（如果不存在）\n",
        "if not os.path.exists(data_dir):\n",
        "    os.makedirs(data_dir)\n",
        "\n",
        "# 定义数据集的下载地址\n",
        "base_url = \"http://yann.lecun.com/exdb/mnist/\"\n",
        "file_names = ['train-images-idx3-ubyte.gz', 'train-labels-idx1-ubyte.gz',\n",
        "              't10k-images-idx3-ubyte.gz', 't10k-labels-idx1-ubyte.gz']\n",
        "\n",
        "# 下载数据集文件并保存到指定目录\n",
        "for file_name in file_names:\n",
        "    url = base_url + file_name\n",
        "    file_path = os.path.join(data_dir, file_name)\n",
        "    urllib.request.urlretrieve(url, file_path)\n",
        "\n",
        "# 解压缩并加载训练数据集\n",
        "with gzip.open(os.path.join(data_dir, 'train-images-idx3-ubyte.gz'), 'rb') as f:\n",
        "    train_images = np.frombuffer(f.read(), np.uint8, offset=16).reshape(-1, 784)\n",
        "with gzip.open(os.path.join(data_dir, 'train-labels-idx1-ubyte.gz'), 'rb') as f:\n",
        "    train_labels = np.frombuffer(f.read(), np.uint8, offset=8)\n",
        "\n",
        "# 解压缩并加载测试数据集\n",
        "with gzip.open(os.path.join(data_dir, 't10k-images-idx3-ubyte.gz'), 'rb') as f:\n",
        "    test_images = np.frombuffer(f.read(), np.uint8, offset=16).reshape(-1, 784)\n",
        "with gzip.open(os.path.join(data_dir, 't10k-labels-idx1-ubyte.gz'), 'rb') as f:\n",
        "    test_labels = np.frombuffer(f.read(), np.uint8, offset=8)\n",
        "\n",
        "# 将标签转换为one-hot编码\n",
        "train_labels = np.eye(10)[train_labels]\n",
        "test_labels = np.eye(10)[test_labels]\n",
        "\n",
        "# 打印数据集大小\n",
        "print('Train:', train_images.shape[0])\n",
        "print('Test:', test_images.shape[0])\n",
        "\n",
        "# 将数据集存储在mnist字典中\n",
        "mnist = {\n",
        "    'train_images': train_images,\n",
        "    'train_labels': train_labels,\n",
        "    'test_images': test_images,\n",
        "    'test_labels': test_labels\n",
        "}\n",
        "print(mnist)"
      ],
      "metadata": {
        "colab": {
          "base_uri": "https://localhost:8080/"
        },
        "id": "oQzG9xvYFz2Z",
        "outputId": "9e485ebf-9f99-4653-fff9-4ecf2a5ae2cb"
      },
      "execution_count": 41,
      "outputs": [
        {
          "output_type": "stream",
          "name": "stdout",
          "text": [
            "Train: 60000\n",
            "Test: 10000\n",
            "{'train_images': array([[0, 0, 0, ..., 0, 0, 0],\n",
            "       [0, 0, 0, ..., 0, 0, 0],\n",
            "       [0, 0, 0, ..., 0, 0, 0],\n",
            "       ...,\n",
            "       [0, 0, 0, ..., 0, 0, 0],\n",
            "       [0, 0, 0, ..., 0, 0, 0],\n",
            "       [0, 0, 0, ..., 0, 0, 0]], dtype=uint8), 'train_labels': array([[0., 0., 0., ..., 0., 0., 0.],\n",
            "       [1., 0., 0., ..., 0., 0., 0.],\n",
            "       [0., 0., 0., ..., 0., 0., 0.],\n",
            "       ...,\n",
            "       [0., 0., 0., ..., 0., 0., 0.],\n",
            "       [0., 0., 0., ..., 0., 0., 0.],\n",
            "       [0., 0., 0., ..., 0., 1., 0.]]), 'test_images': array([[0, 0, 0, ..., 0, 0, 0],\n",
            "       [0, 0, 0, ..., 0, 0, 0],\n",
            "       [0, 0, 0, ..., 0, 0, 0],\n",
            "       ...,\n",
            "       [0, 0, 0, ..., 0, 0, 0],\n",
            "       [0, 0, 0, ..., 0, 0, 0],\n",
            "       [0, 0, 0, ..., 0, 0, 0]], dtype=uint8), 'test_labels': array([[0., 0., 0., ..., 1., 0., 0.],\n",
            "       [0., 0., 1., ..., 0., 0., 0.],\n",
            "       [0., 1., 0., ..., 0., 0., 0.],\n",
            "       ...,\n",
            "       [0., 0., 0., ..., 0., 0., 0.],\n",
            "       [0., 0., 0., ..., 0., 0., 0.],\n",
            "       [0., 0., 0., ..., 0., 0., 0.]])}\n"
          ]
        }
      ]
    },
    {
      "cell_type": "code",
      "source": [
        "import matplotlib.pyplot as plt\n",
        "\n",
        "# 提取第一张训练图像\n",
        "first_train_image = mnist['train_images'][0]\n",
        "\n",
        "# 将一维图像数据重新调整为二维\n",
        "reshaped_image = first_train_image.reshape((28, 28))\n",
        "\n",
        "# 显示图像\n",
        "plt.imshow(reshaped_image, cmap='gray')\n",
        "plt.axis('off')\n",
        "plt.show()"
      ],
      "metadata": {
        "colab": {
          "base_uri": "https://localhost:8080/",
          "height": 406
        },
        "id": "9oyCXSkSG-wF",
        "outputId": "12f211ae-2893-4db2-f2db-ea7eedaaa5a8"
      },
      "execution_count": 42,
      "outputs": [
        {
          "output_type": "display_data",
          "data": {
            "text/plain": [
              "<Figure size 640x480 with 1 Axes>"
            ],
            "image/png": "[encoded data removed]"
          },
          "metadata": {}
        }
      ]
    },
    {
      "cell_type": "markdown",
      "metadata": {
        "id": "PBBdxwU9-40_"
      },
      "source": [
        "# 建立共享函数"
      ]
    },
    {
      "cell_type": "code",
      "execution_count": 43,
      "metadata": {
        "collapsed": true,
        "id": "eee3hOIt-41A"
      },
      "outputs": [],
      "source": [
        "def weight(shape):\n",
        "    return tf.Variable(tf.truncated_normal(shape, stddev=0.1),\n",
        "                       name ='W')"
      ]
    },
    {
      "cell_type": "code",
      "execution_count": 44,
      "metadata": {
        "collapsed": true,
        "id": "onlyzNsx-41A"
      },
      "outputs": [],
      "source": [
        "def bias(shape):\n",
        "    return tf.Variable(tf.constant(0.1, shape=shape)\n",
        "                       , name = 'b')"
      ]
    },
    {
      "cell_type": "code",
      "execution_count": 45,
      "metadata": {
        "collapsed": true,
        "id": "xh-Vdbfi-41B"
      },
      "outputs": [],
      "source": [
        "def conv2d(x, W):\n",
        "    return tf.nn.conv2d(x, W, strides=[1,1,1,1], \n",
        "                        padding='SAME')"
      ]
    },
    {
      "cell_type": "code",
      "execution_count": 46,
      "metadata": {
        "collapsed": true,
        "id": "zoersP14-41C"
      },
      "outputs": [],
      "source": [
        "def max_pool_2x2(x):\n",
        "    return tf.nn.max_pool(x, ksize=[1,2,2,1], \n",
        "                          strides=[1,2,2,1], \n",
        "                          padding='SAME')"
      ]
    },
    {
      "cell_type": "markdown",
      "metadata": {
        "collapsed": true,
        "id": "vKcZJhjl-41C"
      },
      "source": [
        "# 输入层 Input Layer"
      ]
    },
    {
      "cell_type": "code",
      "execution_count": 47,
      "metadata": {
        "id": "fIyoJn5P-41D"
      },
      "outputs": [],
      "source": [
        "import tensorflow.compat.v1 as tf\n",
        "tf.disable_v2_behavior()\n",
        "\n",
        "# 输入层 Input Layer\n",
        "with tf.name_scope('Input_Layer'):\n",
        "    x = tf.placeholder(shape=[None, 784], dtype=tf.float32, name=\"x\")\n",
        "    x_image = tf.reshape(x, [-1, 28, 28, 1])\n"
      ]
    },
    {
      "cell_type": "markdown",
      "metadata": {
        "id": "fXZm8Yr3-41D"
      },
      "source": [
        "# Convolutional Layer 1"
      ]
    },
    {
      "cell_type": "code",
      "execution_count": 48,
      "metadata": {
        "id": "xot2YIQ8-41E"
      },
      "outputs": [],
      "source": [
        "with tf.name_scope('C1_Conv'):\n",
        "    W1 = weight([5,5,1,16])\n",
        "    b1 = bias([16])\n",
        "    Conv1=conv2d(x_image, W1)+ b1\n",
        "    C1_Conv = tf.nn.relu(Conv1 )"
      ]
    },
    {
      "cell_type": "code",
      "execution_count": 49,
      "metadata": {
        "id": "0pi1dQMf-41F"
      },
      "outputs": [],
      "source": [
        "with tf.name_scope('C1_Pool'):\n",
        "    C1_Pool = max_pool_2x2(C1_Conv)"
      ]
    },
    {
      "cell_type": "markdown",
      "metadata": {
        "id": "BU55IWBK-41F"
      },
      "source": [
        "# Convolutional Layer 2"
      ]
    },
    {
      "cell_type": "code",
      "execution_count": 50,
      "metadata": {
        "collapsed": true,
        "id": "xlUNQujl-41G"
      },
      "outputs": [],
      "source": [
        "with tf.name_scope('C2_Conv'):\n",
        "    W2 = weight([5,5,16,36])\n",
        "    b2 = bias([36])\n",
        "    Conv2=conv2d(C1_Pool, W2)+ b2\n",
        "    C2_Conv = tf.nn.relu(Conv2)"
      ]
    },
    {
      "cell_type": "code",
      "execution_count": 51,
      "metadata": {
        "id": "gBrPnuBE-41G"
      },
      "outputs": [],
      "source": [
        "with tf.name_scope('C2_Pool'):\n",
        "    C2_Pool = max_pool_2x2(C2_Conv) "
      ]
    },
    {
      "cell_type": "markdown",
      "metadata": {
        "id": "iD8N4Yjc-41H"
      },
      "source": [
        "# Fully Connected Layer"
      ]
    },
    {
      "cell_type": "code",
      "execution_count": 52,
      "metadata": {
        "id": "zIxRd0BS-41H"
      },
      "outputs": [],
      "source": [
        "with tf.name_scope('D_Flat'):\n",
        "    D_Flat = tf.reshape(C2_Pool, [-1, 1764])"
      ]
    },
    {
      "cell_type": "code",
      "execution_count": 53,
      "metadata": {
        "collapsed": true,
        "id": "atIxj6wP-41I"
      },
      "outputs": [],
      "source": [
        "with tf.name_scope('D_Hidden_Layer'):\n",
        "    W3= weight([1764, 128])\n",
        "    b3= bias([128])\n",
        "    D_Hidden = tf.nn.relu(\n",
        "                  tf.matmul(D_Flat, W3)+b3)\n",
        "    D_Hidden_Dropout= tf.nn.dropout(D_Hidden, \n",
        "                                keep_prob=0.8)"
      ]
    },
    {
      "cell_type": "markdown",
      "metadata": {
        "collapsed": true,
        "id": "Lj5tIEkO-41K"
      },
      "source": [
        "# 输出层Output"
      ]
    },
    {
      "cell_type": "code",
      "execution_count": 54,
      "metadata": {
        "id": "8bATzHkK-41L"
      },
      "outputs": [],
      "source": [
        "with tf.name_scope('Output_Layer'):\n",
        "    W4 = weight([128,10])\n",
        "    b4 = bias([10])\n",
        "    y_predict= tf.nn.softmax(\n",
        "                 tf.matmul(D_Hidden_Dropout,\n",
        "                           W4)+b4)"
      ]
    },
    {
      "cell_type": "markdown",
      "metadata": {
        "id": "GymMsgYb-41M"
      },
      "source": [
        "# 设置训练模型最优化步驟"
      ]
    },
    {
      "cell_type": "code",
      "execution_count": 55,
      "metadata": {
        "id": "OzRkYJD4-41M"
      },
      "outputs": [],
      "source": [
        "with tf.name_scope(\"optimizer\"):\n",
        "    \n",
        "    y_label = tf.placeholder(\"float\", shape=[None, 10], \n",
        "                              name=\"y_label\")\n",
        "    \n",
        "    loss_function = tf.reduce_mean(\n",
        "                      tf.nn.softmax_cross_entropy_with_logits\n",
        "                         (logits=y_predict , \n",
        "                          labels=y_label))\n",
        "    \n",
        "    optimizer = tf.train.AdamOptimizer(learning_rate=0.0001) \\\n",
        "                    .minimize(loss_function)"
      ]
    },
    {
      "cell_type": "markdown",
      "metadata": {
        "id": "B7Rj-ADY-41N"
      },
      "source": [
        "# 设置評估模型"
      ]
    },
    {
      "cell_type": "code",
      "execution_count": 56,
      "metadata": {
        "id": "pq7qQIHQ-41N"
      },
      "outputs": [],
      "source": [
        "with tf.name_scope(\"evaluate_model\"):\n",
        "    correct_prediction = tf.equal(tf.argmax(y_predict, 1),\n",
        "                                  tf.argmax(y_label, 1))\n",
        "    accuracy = tf.reduce_mean(tf.cast(correct_prediction, \"float\"))"
      ]
    },
    {
      "cell_type": "markdown",
      "metadata": {
        "id": "cy6AAJ2Q-41N"
      },
      "source": [
        "# 训练模型"
      ]
    },
    {
      "cell_type": "code",
      "execution_count": 57,
      "metadata": {
        "collapsed": true,
        "id": "f5C-s3_7-41O"
      },
      "outputs": [],
      "source": [
        "trainEpochs = 10\n",
        "batchSize = 100\n",
        "totalBatchs = int(mnist['train_images'].shape[0] / batchSize)\n",
        "# totalBatchs = int(mnist.train.num_examples/batchSize)\n",
        "epoch_list=[];accuracy_list=[];loss_list=[];\n",
        "from time import time\n",
        "startTime=time()\n",
        "sess = tf.Session()\n",
        "sess.run(tf.global_variables_initializer())"
      ]
    },
    {
      "cell_type": "code",
      "source": [
        "def get_next_batch(images, labels, batch_size):\n",
        "    indices = np.random.choice(len(images), size=batch_size, replace=False)\n",
        "    batch_x = images[indices]\n",
        "    batch_y = labels[indices]\n",
        "    return batch_x, batch_y"
      ],
      "metadata": {
        "id": "vSo-l87QIk2F"
      },
      "execution_count": 58,
      "outputs": []
    },
    {
      "cell_type": "code",
      "source": [
        "for epoch in range(trainEpochs):\n",
        "    for i in range(totalBatchs):\n",
        "        batch_x, batch_y = get_next_batch(mnist['train_images'], mnist['train_labels'], batchSize)\n",
        "        sess.run(optimizer, feed_dict={x: batch_x, y_label: batch_y})\n",
        "\n",
        "    loss, acc = sess.run([loss_function, accuracy], feed_dict={x: mnist['test_images'], y_label: mnist['test_labels']})\n",
        "\n",
        "    epoch_list.append(epoch)\n",
        "    loss_list.append(loss)\n",
        "    accuracy_list.append(acc)\n",
        "\n",
        "    print(\"Train Epoch:\", '%02d' % (epoch + 1), \"Loss=\", \"{:.9f}\".format(loss), \"Accuracy=\", acc)\n",
        "\n",
        "duration = time() - startTime\n",
        "print(\"Train Finished takes:\", duration)"
      ],
      "metadata": {
        "id": "-7tcKwBeJjkk",
        "colab": {
          "base_uri": "https://localhost:8080/"
        },
        "outputId": "2ab1b3c0-fbc3-4360-af09-4feeb6300683"
      },
      "execution_count": 59,
      "outputs": [
        {
          "output_type": "stream",
          "name": "stdout",
          "text": [
            "Train Epoch: 01 Loss= 2.004478455 Accuracy= 0.4563\n",
            "Train Epoch: 02 Loss= 1.934356213 Accuracy= 0.5267\n",
            "Train Epoch: 03 Loss= 1.910748005 Accuracy= 0.5501\n",
            "Train Epoch: 04 Loss= 1.821872473 Accuracy= 0.6389\n",
            "Train Epoch: 05 Loss= 1.737104654 Accuracy= 0.7236\n",
            "Train Epoch: 06 Loss= 1.720928073 Accuracy= 0.7401\n",
            "Train Epoch: 07 Loss= 1.708252192 Accuracy= 0.7527\n",
            "Train Epoch: 08 Loss= 1.706400752 Accuracy= 0.7541\n",
            "Train Epoch: 09 Loss= 1.702478170 Accuracy= 0.7584\n",
            "Train Epoch: 10 Loss= 1.639487147 Accuracy= 0.8212\n",
            "Train Finished takes: 839.0277185440063\n"
          ]
        }
      ]
    },
    {
      "cell_type": "code",
      "execution_count": 60,
      "metadata": {
        "id": "rdhjiJNh-41O"
      },
      "outputs": [],
      "source": [
        "# for epoch in range(trainEpochs):\n",
        "#     for i in range(totalBatchs):\n",
        "#         batch_x, batch_y = mnist.train.next_batch(batchSize)\n",
        "#         sess.run(optimizer,feed_dict={x: batch_x, y_label: batch_y})\n",
        "#     loss,acc = sess.run([loss_function,accuracy], feed_dict={x: mnist.validation.images, y_label: mnist.validation.labels})\n",
        "\n",
        "#     epoch_list.append(epoch)\n",
        "#     loss_list.append(loss);accuracy_list.append(acc)    \n",
        "    \n",
        "    \n",
        "# duration =time()-startTime\n",
        "# print(\"Train Finished takes:\",duration)"
      ]
    },
    {
      "cell_type": "code",
      "execution_count": 61,
      "metadata": {
        "id": "FxbbSP7V-41Q",
        "colab": {
          "base_uri": "https://localhost:8080/",
          "height": 449
        },
        "outputId": "3db3a62f-df88-4db2-b12c-f4cb2cbc179c"
      },
      "outputs": [
        {
          "output_type": "display_data",
          "data": {
            "text/plain": [
              "<Figure size 640x480 with 1 Axes>"
            ],
            "image/png": "[encoded data removed]"
          },
          "metadata": {}
        }
      ],
      "source": [
        "%matplotlib inline\n",
        "import matplotlib.pyplot as plt\n",
        "plt.plot(epoch_list, accuracy_list, label=\"accuracy\")\n",
        "plt.plot(epoch_list, loss_list, label=\"loss\")\n",
        "plt.xlabel(\"Epoch\")\n",
        "plt.ylabel(\"Value\")\n",
        "plt.legend()\n",
        "plt.show()"
      ]
    },
    {
      "cell_type": "markdown",
      "metadata": {
        "id": "q4lreeml-41R"
      },
      "source": [
        "# 评估模型的准确率"
      ]
    },
    {
      "cell_type": "code",
      "execution_count": 62,
      "metadata": {
        "id": "gqr1NnDb-41R",
        "colab": {
          "base_uri": "https://localhost:8080/"
        },
        "outputId": "6ba21d46-dfb9-412c-df02-19989f905870"
      },
      "outputs": [
        {
          "output_type": "stream",
          "name": "stdout",
          "text": [
            "Number of test images: 10000\n"
          ]
        }
      ],
      "source": [
        "num_test_images = len(mnist['test_images'])\n",
        "print(\"Number of test images:\", num_test_images)"
      ]
    },
    {
      "cell_type": "code",
      "execution_count": 63,
      "metadata": {
        "id": "_cKpSsnm-41R",
        "colab": {
          "base_uri": "https://localhost:8080/"
        },
        "outputId": "fd629dfa-df8f-46a4-9746-59f6217bbd0a"
      },
      "outputs": [
        {
          "output_type": "stream",
          "name": "stdout",
          "text": [
            "Accuracy: 0.8264\n"
          ]
        }
      ],
      "source": [
        "print(\"Accuracy:\", sess.run(accuracy, feed_dict={x: mnist['test_images'], y_label: mnist['test_labels']}))"
      ]
    },
    {
      "cell_type": "code",
      "execution_count": 64,
      "metadata": {
        "id": "GK8dPsVg-41S",
        "colab": {
          "base_uri": "https://localhost:8080/"
        },
        "outputId": "8260a5c0-9c0b-488a-91b3-f97dd3e9f2f8"
      },
      "outputs": [
        {
          "output_type": "stream",
          "name": "stdout",
          "text": [
            "Accuracy: 0.8178\n"
          ]
        }
      ],
      "source": [
        "print(\"Accuracy:\", sess.run(accuracy, feed_dict={x: mnist['test_images'][:5000], y_label: mnist['test_labels'][:5000]}))"
      ]
    },
    {
      "cell_type": "code",
      "execution_count": 65,
      "metadata": {
        "id": "JDOGDlIm-41T",
        "colab": {
          "base_uri": "https://localhost:8080/"
        },
        "outputId": "12de4276-c612-42e1-aa25-c257d32c820c"
      },
      "outputs": [
        {
          "output_type": "stream",
          "name": "stdout",
          "text": [
            "Accuracy: 0.8306\n"
          ]
        }
      ],
      "source": [
        "print(\"Accuracy:\", sess.run(accuracy, feed_dict={x: mnist['test_images'][5000:], y_label: mnist['test_labels'][5000:]}))"
      ]
    },
    {
      "cell_type": "markdown",
      "metadata": {
        "id": "pXBYkTXs-41T"
      },
      "source": [
        "# 预测概率"
      ]
    },
    {
      "cell_type": "code",
      "execution_count": 66,
      "metadata": {
        "collapsed": true,
        "id": "Lw1XlA3x-41T"
      },
      "outputs": [],
      "source": [
        "y_pred = sess.run(y_predict, feed_dict={x: mnist['test_images'][:5000]})"
      ]
    },
    {
      "cell_type": "code",
      "execution_count": 67,
      "metadata": {
        "id": "l06jyEfL-41U",
        "colab": {
          "base_uri": "https://localhost:8080/"
        },
        "outputId": "b898c9d0-d2a9-4665-8ea3-d18f7fa515c2"
      },
      "outputs": [
        {
          "output_type": "execute_result",
          "data": {
            "text/plain": [
              "array([[0.0000000e+00, 0.0000000e+00, 0.0000000e+00, 0.0000000e+00,\n",
              "        0.0000000e+00, 0.0000000e+00, 0.0000000e+00, 9.9999994e-01,\n",
              "        0.0000000e+00, 0.0000000e+00],\n",
              "       [0.0000000e+00, 0.0000000e+00, 9.9999994e-01, 0.0000000e+00,\n",
              "        0.0000000e+00, 0.0000000e+00, 0.0000000e+00, 0.0000000e+00,\n",
              "        0.0000000e+00, 0.0000000e+00],\n",
              "       [0.0000000e+00, 9.9999994e-01, 0.0000000e+00, 0.0000000e+00,\n",
              "        0.0000000e+00, 0.0000000e+00, 0.0000000e+00, 0.0000000e+00,\n",
              "        0.0000000e+00, 0.0000000e+00],\n",
              "       [0.0000000e+00, 0.0000000e+00, 0.0000000e+00, 0.0000000e+00,\n",
              "        0.0000000e+00, 0.0000000e+00, 9.9999994e-01, 0.0000000e+00,\n",
              "        0.0000000e+00, 0.0000000e+00],\n",
              "       [0.0000000e+00, 0.0000000e+00, 0.0000000e+00, 0.0000000e+00,\n",
              "        9.9999994e-01, 0.0000000e+00, 1.4630538e-33, 0.0000000e+00,\n",
              "        0.0000000e+00, 0.0000000e+00]], dtype=float32)"
            ]
          },
          "metadata": {},
          "execution_count": 67
        }
      ],
      "source": [
        "y_pred[:5]"
      ]
    },
    {
      "cell_type": "markdown",
      "metadata": {
        "id": "Vw0JjKU5-41V"
      },
      "source": [
        "# 预测结果"
      ]
    },
    {
      "cell_type": "code",
      "execution_count": 68,
      "metadata": {
        "id": "caQlM758-41V"
      },
      "outputs": [],
      "source": [
        "prediction_result = sess.run(tf.argmax(y_pred, 1), feed_dict={x: mnist['test_images'], y_label: mnist['test_labels']})"
      ]
    },
    {
      "cell_type": "code",
      "execution_count": 69,
      "metadata": {
        "id": "8cXt1OAq-413",
        "colab": {
          "base_uri": "https://localhost:8080/"
        },
        "outputId": "70ce8c00-c708-4732-d386-8f74ae16bbd5"
      },
      "outputs": [
        {
          "output_type": "execute_result",
          "data": {
            "text/plain": [
              "array([7, 2, 1, 6, 4, 1, 4, 9, 5, 9])"
            ]
          },
          "metadata": {},
          "execution_count": 69
        }
      ],
      "source": [
        "prediction_result[:10]"
      ]
    },
    {
      "cell_type": "code",
      "execution_count": 70,
      "metadata": {
        "collapsed": true,
        "id": "jbYeYGO2-414"
      },
      "outputs": [],
      "source": [
        "def show_images_labels_predict(images, labels, prediction_result):\n",
        "    fig = plt.gcf()\n",
        "    fig.set_size_inches(8, 10)\n",
        "    for i in range(0, 10):\n",
        "        ax = plt.subplot(5, 5, 1 + i)\n",
        "        ax.imshow(np.reshape(images[i], (28, 28)), cmap='binary')\n",
        "        ax.set_title(\"label=\" + str(np.argmax(labels[i])) +\n",
        "                     \", predict=\" + str(prediction_result[i]), fontsize=9)\n",
        "    plt.show()"
      ]
    },
    {
      "cell_type": "code",
      "execution_count": 71,
      "metadata": {
        "id": "wjMoLyhE-415",
        "colab": {
          "base_uri": "https://localhost:8080/",
          "height": 345
        },
        "outputId": "b3113796-cf5e-442b-dce0-764ddf781058"
      },
      "outputs": [
        {
          "output_type": "display_data",
          "data": {
            "text/plain": [
              "<Figure size 800x1000 with 10 Axes>"
            ],
            "image/png": "[encoded data removed]"
          },
          "metadata": {}
        }
      ],
      "source": [
        "show_images_labels_predict(mnist['test_images'], mnist['test_labels'], prediction_result)"
      ]
    },
    {
      "cell_type": "markdown",
      "metadata": {
        "id": "TDARftDO-415"
      },
      "source": [
        "# 找出预测错误"
      ]
    },
    {
      "cell_type": "code",
      "execution_count": 72,
      "metadata": {
        "id": "bir3goVB-416",
        "colab": {
          "base_uri": "https://localhost:8080/"
        },
        "outputId": "89d6d557-f903-4aee-fd3c-e0daa8119a71"
      },
      "outputs": [
        {
          "output_type": "stream",
          "name": "stdout",
          "text": [
            "i=3   label= 0 predict= 6\n",
            "i=10   label= 0 predict= 8\n",
            "i=13   label= 0 predict= 8\n",
            "i=22   label= 6 predict= 7\n",
            "i=25   label= 0 predict= 6\n",
            "i=28   label= 0 predict= 8\n",
            "i=33   label= 4 predict= 6\n",
            "i=55   label= 0 predict= 8\n",
            "i=69   label= 0 predict= 5\n",
            "i=71   label= 0 predict= 5\n",
            "i=78   label= 9 predict= 8\n",
            "i=80   label= 7 predict= 9\n",
            "i=101   label= 0 predict= 8\n",
            "i=111   label= 7 predict= 1\n",
            "i=114   label= 7 predict= 2\n",
            "i=121   label= 4 predict= 6\n",
            "i=126   label= 0 predict= 6\n",
            "i=136   label= 0 predict= 8\n",
            "i=142   label= 3 predict= 2\n",
            "i=148   label= 0 predict= 6\n",
            "i=149   label= 2 predict= 9\n",
            "i=157   label= 0 predict= 8\n",
            "i=171   label= 7 predict= 9\n",
            "i=175   label= 7 predict= 9\n",
            "i=183   label= 0 predict= 6\n",
            "i=188   label= 0 predict= 1\n",
            "i=190   label= 1 predict= 4\n",
            "i=192   label= 0 predict= 6\n",
            "i=193   label= 9 predict= 3\n",
            "i=194   label= 0 predict= 7\n",
            "i=195   label= 3 predict= 7\n",
            "i=215   label= 0 predict= 8\n",
            "i=217   label= 6 predict= 5\n",
            "i=220   label= 7 predict= 9\n",
            "i=222   label= 2 predict= 8\n",
            "i=233   label= 8 predict= 7\n",
            "i=243   label= 7 predict= 3\n",
            "i=246   label= 0 predict= 6\n",
            "i=269   label= 0 predict= 5\n",
            "i=271   label= 0 predict= 6\n",
            "i=274   label= 9 predict= 7\n",
            "i=282   label= 7 predict= 2\n",
            "i=290   label= 8 predict= 4\n",
            "i=294   label= 0 predict= 8\n",
            "i=296   label= 0 predict= 5\n",
            "i=297   label= 0 predict= 5\n",
            "i=305   label= 0 predict= 5\n",
            "i=311   label= 0 predict= 8\n",
            "i=312   label= 0 predict= 6\n",
            "i=318   label= 2 predict= 3\n",
            "i=320   label= 9 predict= 1\n",
            "i=321   label= 2 predict= 7\n",
            "i=322   label= 9 predict= 4\n",
            "i=324   label= 0 predict= 7\n",
            "i=327   label= 0 predict= 6\n",
            "i=340   label= 5 predict= 6\n",
            "i=343   label= 3 predict= 5\n",
            "i=346   label= 0 predict= 8\n",
            "i=349   label= 3 predict= 7\n",
            "i=359   label= 9 predict= 4\n",
            "i=365   label= 0 predict= 6\n",
            "i=372   label= 0 predict= 6\n",
            "i=380   label= 0 predict= 5\n",
            "i=381   label= 3 predict= 7\n",
            "i=403   label= 8 predict= 9\n",
            "i=407   label= 0 predict= 7\n",
            "i=411   label= 7 predict= 9\n",
            "i=424   label= 0 predict= 6\n",
            "i=440   label= 0 predict= 5\n",
            "i=441   label= 0 predict= 6\n",
            "i=443   label= 0 predict= 8\n",
            "i=444   label= 2 predict= 8\n",
            "i=448   label= 9 predict= 8\n",
            "i=449   label= 3 predict= 5\n",
            "i=459   label= 0 predict= 8\n",
            "i=478   label= 5 predict= 8\n",
            "i=479   label= 9 predict= 3\n",
            "i=485   label= 0 predict= 6\n",
            "i=490   label= 0 predict= 6\n",
            "i=497   label= 4 predict= 1\n",
            "i=498   label= 0 predict= 8\n"
          ]
        }
      ],
      "source": [
        "for i in range(500):\n",
        "    if prediction_result[i] != np.argmax(mnist['test_labels'][i]):\n",
        "        print(\"i=\" + str(i) +\n",
        "              \"   label=\", np.argmax(mnist['test_labels'][i]),\n",
        "              \"predict=\", prediction_result[i])"
      ]
    },
    {
      "cell_type": "code",
      "execution_count": 73,
      "metadata": {
        "collapsed": true,
        "id": "n_DWnC1C-417"
      },
      "outputs": [],
      "source": [
        "def show_images_labels_predict_error(images, labels, prediction_result):\n",
        "    fig = plt.gcf()\n",
        "    fig.set_size_inches(8, 10)\n",
        "    i = 0\n",
        "    j = 0\n",
        "    while i < 10:\n",
        "        if prediction_result[j] != np.argmax(labels[j]):\n",
        "            ax = plt.subplot(5, 5, 1 + i)\n",
        "            ax.imshow(np.reshape(images[j], (28, 28)), cmap='binary')\n",
        "            ax.set_title(\"j=\" + str(j) +\n",
        "                         \", l=\" + str(np.argmax(labels[j])) +\n",
        "                         \", p=\" + str(prediction_result[j]), fontsize=9)\n",
        "            i = i + 1\n",
        "        j = j + 1\n",
        "    plt.show()"
      ]
    },
    {
      "cell_type": "code",
      "execution_count": 74,
      "metadata": {
        "id": "kuu8vRyr-417",
        "colab": {
          "base_uri": "https://localhost:8080/",
          "height": 345
        },
        "outputId": "1ceadb50-40d3-486b-ac60-d1bfd2f25e19"
      },
      "outputs": [
        {
          "output_type": "display_data",
          "data": {
            "text/plain": [
              "<Figure size 800x1000 with 10 Axes>"
            ],
            "image/png": "[encoded data removed]"
          },
          "metadata": {}
        }
      ],
      "source": [
        "show_images_labels_predict_error(mnist['test_images'], mnist['test_labels'], prediction_result)"
      ]
    },
    {
      "cell_type": "markdown",
      "source": [
        "# 儲存模型"
      ],
      "metadata": {
        "id": "uyfoyGE-_PHr"
      }
    },
    {
      "cell_type": "code",
      "execution_count": 75,
      "metadata": {
        "collapsed": true,
        "id": "CI8IGlLX-418",
        "colab": {
          "base_uri": "https://localhost:8080/"
        },
        "outputId": "e24df452-5c00-4865-ddf6-eeb6527683d3"
      },
      "outputs": [
        {
          "output_type": "stream",
          "name": "stdout",
          "text": [
            "Model saved in file: saveModel/CNN_model1\n"
          ]
        }
      ],
      "source": [
        "saver = tf.train.Saver()\n",
        "save_path = saver.save(sess, \"saveModel/CNN_model1\")\n",
        "print(\"Model saved in file: %s\" % save_path)"
      ]
    },
    {
      "cell_type": "code",
      "execution_count": 76,
      "metadata": {
        "collapsed": true,
        "id": "AkLb3COc-419"
      },
      "outputs": [],
      "source": [
        "merged = tf.summary.merge_all()\n",
        "train_writer = tf.summary.FileWriter('log/CNN', sess.graph)\n",
        "\n",
        "# sess.close()"
      ]
    }
  ],
  "metadata": {
    "anaconda-cloud": {},
    "kernelspec": {
      "display_name": "Python 3",
      "language": "python",
      "name": "python3"
    },
    "language_info": {
      "codemirror_mode": {
        "name": "ipython",
        "version": 3
      },
      "file_extension": ".py",
      "mimetype": "text/x-python",
      "name": "python",
      "nbconvert_exporter": "python",
      "pygments_lexer": "ipython3",
      "version": "3.6.0"
    },
    "colab": {
      "provenance": []
    }
  },
  "nbformat": 4,
  "nbformat_minor": 0
}