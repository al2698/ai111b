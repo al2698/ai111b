{
  "cells": [
    {
      "cell_type": "markdown",
      "metadata": {
        "id": "VEZvoHcnni6z"
      },
      "source": [
        "# 1. Import Library"
      ]
    },
    {
      "cell_type": "code",
      "execution_count": null,
      "metadata": {
        "collapsed": true,
        "id": "e9wLnh3Gn1DF"
      },
      "outputs": [],
      "source": [
        "import urllib.request\n",
        "import os\n",
        "import tarfile"
      ]
    },
    {
      "cell_type": "code",
      "execution_count": null,
      "metadata": {
        "id": "jWzlyFatn1DH"
      },
      "outputs": [],
      "source": [
        "url=\"http://ai.stanford.edu/~amaas/data/sentiment/aclImdb_v1.tar.gz\"\n",
        "filepath=\"data/aclImdb_v1.tar.gz\"\n",
        "if not os.path.exists('data'):\n",
        "    os.makedirs('data')\n",
        "if not os.path.isfile(filepath):\n",
        "    result=urllib.request.urlretrieve(url,filepath)\n",
        "    print('downloaded:',result)"
      ]
    },
    {
      "cell_type": "code",
      "execution_count": null,
      "metadata": {
        "collapsed": true,
        "id": "-jRVV6drn1DH"
      },
      "outputs": [],
      "source": [
        "if not os.path.exists(\"data/aclImdb\"):\n",
        "    tfile = tarfile.open(\"data/aclImdb_v1.tar.gz\", 'r:gz')\n",
        "    result=tfile.extractall('data/')"
      ]
    },
    {
      "cell_type": "markdown",
      "metadata": {
        "id": "zSsNr1ykni61"
      },
      "source": [
        "# 數據準備"
      ]
    },
    {
      "cell_type": "code",
      "execution_count": null,
      "metadata": {
        "id": "GprUOUlUni61"
      },
      "outputs": [],
      "source": [
        "from keras.datasets import imdb\n",
        "from keras.preprocessing import sequence\n",
        "from keras.utils import pad_sequences\n",
        "from keras.preprocessing.text import Tokenizer\n",
        "import numpy as np\n",
        "np.random.seed(10)"
      ]
    },
    {
      "cell_type": "code",
      "execution_count": null,
      "metadata": {
        "collapsed": true,
        "id": "D9H-DKyNni63"
      },
      "outputs": [],
      "source": [
        "import re\n",
        "re_tag = re.compile(r'<[^>]+>')\n",
        "\n",
        "def rm_tags(text):\n",
        "    return re_tag.sub('', text)"
      ]
    },
    {
      "cell_type": "code",
      "execution_count": null,
      "metadata": {
        "collapsed": true,
        "id": "ak5yVlIJni63"
      },
      "outputs": [],
      "source": [
        "import os\n",
        "def read_files(filetype):\n",
        "    path = \"data/aclImdb/\"\n",
        "    file_list=[]\n",
        "\n",
        "    positive_path=path + filetype+\"/pos/\"\n",
        "    for f in os.listdir(positive_path):\n",
        "        file_list+=[positive_path+f]\n",
        "    \n",
        "    negative_path=path + filetype+\"/neg/\"\n",
        "    for f in os.listdir(negative_path):\n",
        "        file_list+=[negative_path+f]\n",
        "        \n",
        "    print('read',filetype, 'files:',len(file_list))\n",
        "       \n",
        "    all_labels = ([1] * 12500 + [0] * 12500) \n",
        "    \n",
        "    all_texts  = []\n",
        "    \n",
        "    for fi in file_list:\n",
        "        with open(fi,encoding='utf8') as file_input:\n",
        "            all_texts += [rm_tags(\" \".join(file_input.readlines()))]\n",
        "            \n",
        "    return all_labels,all_texts"
      ]
    },
    {
      "cell_type": "code",
      "execution_count": null,
      "metadata": {
        "colab": {
          "base_uri": "https://localhost:8080/"
        },
        "id": "A2-H-36lni64",
        "outputId": "3cf75fa5-8cfb-4fca-8fd0-1d384620c5fb"
      },
      "outputs": [
        {
          "output_type": "stream",
          "name": "stdout",
          "text": [
            "read train files: 25000\n"
          ]
        }
      ],
      "source": [
        "y_train,train_text=read_files(\"train\")"
      ]
    },
    {
      "cell_type": "code",
      "execution_count": null,
      "metadata": {
        "colab": {
          "base_uri": "https://localhost:8080/"
        },
        "id": "3x5Trfh6ni64",
        "outputId": "79f1d93b-110b-4250-89f1-ead7c947d978"
      },
      "outputs": [
        {
          "output_type": "stream",
          "name": "stdout",
          "text": [
            "read test files: 25000\n"
          ]
        }
      ],
      "source": [
        "y_test,test_text=read_files(\"test\")"
      ]
    },
    {
      "cell_type": "code",
      "execution_count": null,
      "metadata": {
        "collapsed": true,
        "id": "Yf1Fkzbxni64"
      },
      "outputs": [],
      "source": [
        "token = Tokenizer(num_words=2000)\n",
        "token.fit_on_texts(train_text)"
      ]
    },
    {
      "cell_type": "code",
      "execution_count": null,
      "metadata": {
        "collapsed": true,
        "id": "4zIEEc4Bni64"
      },
      "outputs": [],
      "source": [
        "x_train_seq = token.texts_to_sequences(train_text)\n",
        "x_test_seq  = token.texts_to_sequences(test_text)"
      ]
    },
    {
      "cell_type": "code",
      "execution_count": null,
      "metadata": {
        "collapsed": true,
        "id": "pDBAOYJNni64"
      },
      "outputs": [],
      "source": [
        "x_train = pad_sequences(x_train_seq, maxlen=100)\n",
        "x_test  = pad_sequences(x_test_seq,  maxlen=100)"
      ]
    },
    {
      "cell_type": "markdown",
      "metadata": {
        "id": "nThlT4qdni65"
      },
      "source": [
        "# 建立模型"
      ]
    },
    {
      "cell_type": "code",
      "execution_count": null,
      "metadata": {
        "collapsed": true,
        "id": "dQ_7kslDni65"
      },
      "outputs": [],
      "source": [
        "from keras.models import Sequential\n",
        "from keras.layers.core import Dense, Dropout, Activation,Flatten\n",
        "from keras.layers import Embedding"
      ]
    },
    {
      "cell_type": "code",
      "execution_count": null,
      "metadata": {
        "collapsed": true,
        "id": "idRHZaprni65"
      },
      "outputs": [],
      "source": [
        "model = Sequential()"
      ]
    },
    {
      "cell_type": "code",
      "execution_count": null,
      "metadata": {
        "collapsed": true,
        "id": "V9kUYRcPni65"
      },
      "outputs": [],
      "source": [
        "model.add(Embedding(output_dim=32,\n",
        "                    input_dim=2000, \n",
        "                    input_length=100))\n",
        "model.add(Dropout(0.2))"
      ]
    },
    {
      "cell_type": "code",
      "execution_count": null,
      "metadata": {
        "collapsed": true,
        "id": "TxiQ0pXnni65"
      },
      "outputs": [],
      "source": [
        "model.add(Flatten())"
      ]
    },
    {
      "cell_type": "code",
      "execution_count": null,
      "metadata": {
        "collapsed": true,
        "id": "8jyJj85Pni65"
      },
      "outputs": [],
      "source": [
        "model.add(Dense(units=256,\n",
        "                activation='relu' ))\n",
        "model.add(Dropout(0.2))"
      ]
    },
    {
      "cell_type": "code",
      "execution_count": null,
      "metadata": {
        "collapsed": true,
        "id": "6p7FeQzNni65"
      },
      "outputs": [],
      "source": [
        "model.add(Dense(units=1,\n",
        "                activation='sigmoid' ))"
      ]
    },
    {
      "cell_type": "code",
      "execution_count": null,
      "metadata": {
        "colab": {
          "base_uri": "https://localhost:8080/"
        },
        "id": "Au2Y2XfLni66",
        "outputId": "8682bc53-fc46-4692-fea1-944b285e42ed"
      },
      "outputs": [
        {
          "output_type": "stream",
          "name": "stdout",
          "text": [
            "Model: \"sequential_2\"\n",
            "_________________________________________________________________\n",
            " Layer (type)                Output Shape              Param #   \n",
            "=================================================================\n",
            " embedding_2 (Embedding)     (None, 100, 32)           64000     \n",
            "                                                                 \n",
            " dropout_4 (Dropout)         (None, 100, 32)           0         \n",
            "                                                                 \n",
            " flatten_2 (Flatten)         (None, 3200)              0         \n",
            "                                                                 \n",
            " dense_4 (Dense)             (None, 256)               819456    \n",
            "                                                                 \n",
            " dropout_5 (Dropout)         (None, 256)               0         \n",
            "                                                                 \n",
            " dense_5 (Dense)             (None, 1)                 257       \n",
            "                                                                 \n",
            "=================================================================\n",
            "Total params: 883,713\n",
            "Trainable params: 883,713\n",
            "Non-trainable params: 0\n",
            "_________________________________________________________________\n"
          ]
        }
      ],
      "source": [
        "model.summary()"
      ]
    },
    {
      "cell_type": "markdown",
      "metadata": {
        "id": "r3OiheRIni66"
      },
      "source": [
        "# 訓練模型"
      ]
    },
    {
      "cell_type": "code",
      "source": [
        "import numpy as np\n",
        "\n",
        "x_train = np.array(x_train)\n",
        "y_train = np.array(y_train)"
      ],
      "metadata": {
        "id": "iY9OZSHlrmKa"
      },
      "execution_count": null,
      "outputs": []
    },
    {
      "cell_type": "code",
      "execution_count": null,
      "metadata": {
        "collapsed": true,
        "id": "Jwas3rgBni66"
      },
      "outputs": [],
      "source": [
        "model.compile(loss='binary_crossentropy', \n",
        "              optimizer='adam', \n",
        "              metrics=['accuracy'])"
      ]
    },
    {
      "cell_type": "code",
      "execution_count": null,
      "metadata": {
        "colab": {
          "base_uri": "https://localhost:8080/"
        },
        "id": "LwzBCOQUni66",
        "outputId": "5b2429a0-0d71-4ea1-fff5-3bac259e46b9"
      },
      "outputs": [
        {
          "output_type": "stream",
          "name": "stdout",
          "text": [
            "Epoch 1/10\n",
            "200/200 - 7s - loss: 0.4714 - accuracy: 0.7629 - val_loss: 0.5160 - val_accuracy: 0.7522 - 7s/epoch - 36ms/step\n",
            "Epoch 2/10\n",
            "200/200 - 5s - loss: 0.2666 - accuracy: 0.8924 - val_loss: 0.5302 - val_accuracy: 0.7572 - 5s/epoch - 25ms/step\n",
            "Epoch 3/10\n",
            "200/200 - 6s - loss: 0.1596 - accuracy: 0.9423 - val_loss: 0.6373 - val_accuracy: 0.7580 - 6s/epoch - 32ms/step\n",
            "Epoch 4/10\n",
            "200/200 - 6s - loss: 0.0856 - accuracy: 0.9704 - val_loss: 0.6894 - val_accuracy: 0.7850 - 6s/epoch - 29ms/step\n",
            "Epoch 5/10\n",
            "200/200 - 7s - loss: 0.0484 - accuracy: 0.9833 - val_loss: 0.7667 - val_accuracy: 0.7930 - 7s/epoch - 33ms/step\n",
            "Epoch 6/10\n",
            "200/200 - 6s - loss: 0.0391 - accuracy: 0.9863 - val_loss: 0.8994 - val_accuracy: 0.7774 - 6s/epoch - 30ms/step\n",
            "Epoch 7/10\n",
            "200/200 - 6s - loss: 0.0330 - accuracy: 0.9873 - val_loss: 1.3650 - val_accuracy: 0.7068 - 6s/epoch - 31ms/step\n",
            "Epoch 8/10\n",
            "200/200 - 5s - loss: 0.0255 - accuracy: 0.9910 - val_loss: 1.5518 - val_accuracy: 0.7028 - 5s/epoch - 25ms/step\n",
            "Epoch 9/10\n",
            "200/200 - 6s - loss: 0.0256 - accuracy: 0.9906 - val_loss: 1.2517 - val_accuracy: 0.7576 - 6s/epoch - 28ms/step\n",
            "Epoch 10/10\n",
            "200/200 - 6s - loss: 0.0256 - accuracy: 0.9909 - val_loss: 1.3658 - val_accuracy: 0.7418 - 6s/epoch - 28ms/step\n"
          ]
        }
      ],
      "source": [
        "train_history =model.fit(x_train, y_train,batch_size=100, \n",
        "                         epochs=10,verbose=2,\n",
        "                         validation_split=0.2)"
      ]
    },
    {
      "cell_type": "code",
      "execution_count": null,
      "metadata": {
        "colab": {
          "base_uri": "https://localhost:8080/"
        },
        "id": "yZ5XjcCBni66",
        "outputId": "97a06b81-eeac-4bce-a767-170722727b90"
      },
      "outputs": [
        {
          "output_type": "stream",
          "name": "stdout",
          "text": [
            "Populating the interactive namespace from numpy and matplotlib\n"
          ]
        }
      ],
      "source": [
        "%pylab inline\n",
        "import matplotlib.pyplot as plt\n",
        "def show_train_history(train_history,train,validation):\n",
        "    plt.plot(train_history.history[train])\n",
        "    plt.plot(train_history.history[validation])\n",
        "    plt.title('Train History')\n",
        "    plt.ylabel(train)\n",
        "    plt.xlabel('Epoch')\n",
        "    plt.legend(['train', 'validation'], loc='upper left')\n",
        "    plt.show()"
      ]
    },
    {
      "cell_type": "code",
      "execution_count": null,
      "metadata": {
        "colab": {
          "base_uri": "https://localhost:8080/"
        },
        "id": "9NlbpODkni67",
        "outputId": "8bb8b69a-ac91-450b-a66e-1c2ac78d857d"
      },
      "outputs": [
        {
          "output_type": "display_data",
          "data": {
            "text/plain": [
              "<Figure size 640x480 with 1 Axes>"
            ],
            "image/png": "[encoded data removed]"
          },
          "metadata": {}
        }
      ],
      "source": [
        "show_train_history(train_history,'accuracy','val_accuracy')"
      ]
    },
    {
      "cell_type": "code",
      "execution_count": null,
      "metadata": {
        "colab": {
          "base_uri": "https://localhost:8080/"
        },
        "id": "-TBBuJf5ni67",
        "outputId": "fb6d6802-2525-400c-a1db-d5117fa4b533"
      },
      "outputs": [
        {
          "output_type": "display_data",
          "data": {
            "text/plain": [
              "<Figure size 640x480 with 1 Axes>"
            ],
            "image/png": "[encoded data removed]"
          },
          "metadata": {}
        }
      ],
      "source": [
        "show_train_history(train_history,'loss','val_loss')"
      ]
    },
    {
      "cell_type": "markdown",
      "metadata": {
        "id": "i3tND5D7ni67"
      },
      "source": [
        "# 評估模型的準確率"
      ]
    },
    {
      "cell_type": "code",
      "source": [
        "x_test = np.array(x_test)\n",
        "y_test = np.array(y_test)"
      ],
      "metadata": {
        "id": "TAMtKjuWrvp_"
      },
      "execution_count": null,
      "outputs": []
    },
    {
      "cell_type": "code",
      "execution_count": null,
      "metadata": {
        "colab": {
          "base_uri": "https://localhost:8080/"
        },
        "id": "gREVUIBoni67",
        "outputId": "5a5c2259-6ba4-42a9-afdf-5749e3b0d06c"
      },
      "outputs": [
        {
          "output_type": "stream",
          "name": "stdout",
          "text": [
            "782/782 [==============================] - 3s 4ms/step - loss: 0.9606 - accuracy: 0.8134\n"
          ]
        },
        {
          "output_type": "execute_result",
          "data": {
            "text/plain": [
              "0.8134400248527527"
            ]
          },
          "metadata": {},
          "execution_count": 150
        }
      ],
      "source": [
        "scores = model.evaluate(x_test, y_test, verbose=1)\n",
        "scores[1]"
      ]
    },
    {
      "cell_type": "markdown",
      "metadata": {
        "id": "GcNiqsTDni67"
      },
      "source": [
        "# 預測概率"
      ]
    },
    {
      "cell_type": "code",
      "execution_count": null,
      "metadata": {
        "collapsed": true,
        "colab": {
          "base_uri": "https://localhost:8080/"
        },
        "id": "fPt_6BdRni67",
        "outputId": "d875b742-22c0-4af6-a3e8-7065e14bf379"
      },
      "outputs": [
        {
          "output_type": "stream",
          "name": "stdout",
          "text": [
            "782/782 [==============================] - 3s 4ms/step\n"
          ]
        }
      ],
      "source": [
        "predict=np.where(model.predict(x_test) > 0.5, 1, 0)"
      ]
    },
    {
      "cell_type": "code",
      "execution_count": null,
      "metadata": {
        "id": "gEpe6n10ni68",
        "colab": {
          "base_uri": "https://localhost:8080/"
        },
        "outputId": "6bb307ce-6468-4679-b9c4-3c448ca09b92"
      },
      "outputs": [
        {
          "output_type": "execute_result",
          "data": {
            "text/plain": [
              "array([[0],\n",
              "       [1],\n",
              "       [1],\n",
              "       [1],\n",
              "       [1],\n",
              "       [1],\n",
              "       [1],\n",
              "       [1],\n",
              "       [1],\n",
              "       [1]])"
            ]
          },
          "metadata": {},
          "execution_count": 152
        }
      ],
      "source": [
        "predict[:10]"
      ]
    },
    {
      "cell_type": "markdown",
      "metadata": {
        "id": "DFCEUM7ini68"
      },
      "source": [
        "# 預測結果"
      ]
    },
    {
      "cell_type": "code",
      "execution_count": null,
      "metadata": {
        "id": "A-gTGLtyni68",
        "colab": {
          "base_uri": "https://localhost:8080/"
        },
        "outputId": "88199472-bd3b-484e-db69-754b915d1f61"
      },
      "outputs": [
        {
          "output_type": "execute_result",
          "data": {
            "text/plain": [
              "array([0, 1, 1, 1, 1, 1, 1, 1, 1, 1])"
            ]
          },
          "metadata": {},
          "execution_count": 153
        }
      ],
      "source": [
        "predict_classes=predict.reshape(-1)\n",
        "predict_classes[:10]"
      ]
    },
    {
      "cell_type": "markdown",
      "metadata": {
        "id": "iR51vDYdni68"
      },
      "source": [
        "# 查看預測結果"
      ]
    },
    {
      "cell_type": "code",
      "execution_count": null,
      "metadata": {
        "collapsed": true,
        "id": "hyfVZYGGni68"
      },
      "outputs": [],
      "source": [
        "SentimentDict={1:'正面的',0:'負面的'}\n",
        "def display_test_Sentiment(i):\n",
        "    print(test_text[i])\n",
        "    print('標籤label:',SentimentDict[y_test[i]],\n",
        "          '預測結果:',SentimentDict[predict_classes[i]])"
      ]
    },
    {
      "cell_type": "code",
      "execution_count": null,
      "metadata": {
        "id": "fQOmD5-gni69",
        "colab": {
          "base_uri": "https://localhost:8080/"
        },
        "outputId": "88ba8f2a-cf49-445f-fa9c-e1a4705b0641"
      },
      "outputs": [
        {
          "output_type": "stream",
          "name": "stdout",
          "text": [
            "First, don't be fooled by my family name. My mother was full blooded Italian, so I really know Italian families, and I LOVE mobster movies, even the funny ones like this.For those people who have bad rapped this film (you know who you are) you should have your movie privileges taken from you because you don't know what good is. This is a damn funny and well-styled film. The fact that almost nobody is Italian in it is part of the joke, so far as I can see. And what red-blooded straight male could complain about spending an hour and something with the likes of Michelle Pfieffer? Puh-lease! When I saw this film it won me over with the opening song by Rosemary Clooney who was as Irish as one can get, but her pronunciation of the Italian words in \"Mambo Italiano\" is flawless and sets the tone of what is to follow perfectly. (Hell, I even bought the record the next day because of it.) Just the look of every garish thing in the apartment that I have personally seen in my relatives houses, though not in the same place (which I found hysterical) sold it for me.This movie is like Goodfellas on laughing gas. I just wonder why there are no Burger Worlds and what happened to the food these guys were supposed to get? My guess is the crew ate it. \"The Fries are crispy. The shakes are creamy.\" My mouth is watering almost as much as it is thinking of the gorgeous Ms. Pfieffer. (And I never trusted clowns anyway.) And the three best things about this film are Mercedes Ruehl's achingly funny mob wife spurned, Dean Stockwell as her philandering husband Tony \"The Tiger\" and last, but DEFINITELY not least, the great mugging by Oliver Platt who should get more comic roles. And note to myself: find out where that black chick went. Ouch! Why does she work so infrequently? This picture is right alongside the great mob movies as it should be.\n",
            "標籤label: 正面的 預測結果: 正面的\n"
          ]
        }
      ],
      "source": [
        "display_test_Sentiment(2)"
      ]
    },
    {
      "cell_type": "code",
      "execution_count": null,
      "metadata": {
        "id": "gW0gmp9Uni69",
        "colab": {
          "base_uri": "https://localhost:8080/"
        },
        "outputId": "8a770295-b6e0-4e68-c699-671525c1ff72"
      },
      "outputs": [
        {
          "output_type": "execute_result",
          "data": {
            "text/plain": [
              "array([0, 0, 0, 0, 0, 0, 0, 0, 0, 0])"
            ]
          },
          "metadata": {},
          "execution_count": 156
        }
      ],
      "source": [
        "predict_classes[12500:12510]"
      ]
    },
    {
      "cell_type": "code",
      "execution_count": null,
      "metadata": {
        "id": "UVt_xO71ni69",
        "colab": {
          "base_uri": "https://localhost:8080/"
        },
        "outputId": "880645bc-fd1b-4ab8-f4be-4ee2372478c8"
      },
      "outputs": [
        {
          "output_type": "stream",
          "name": "stdout",
          "text": [
            "The movie starts out with its most intelligent joke, and goes downhill from there (pun intended). After that there's lots of potty humor and sexual situations. The beautiful women were the best part of the movie. Swear-word puns are not meant to be central idea jokes, but they try it here. The battle between the two groups in the local town (richies and poories) is an old tried and true setup, so how could it go wrong? Well, there is no reason to envy the \"richies\" nor any reason to feel sorry for the poories, so we can forget the central plot. The situational humor is all toilet or sexual aimed at teenagers, but only garners giggles, no true belly-laughs.The only thing that salvages the comedy for this movie is the character humor, with the blind man providing some rehashed, but seldom used setups, and the black bar owner providing the formulaic \"street\" or \"hood\" humor. OK, forget the jokes, there has to be some killer snowboarding shots since this was a commercial enterprise. Unfortunately, there was only 4 seconds of backdrop action that might be inspiring. The rest was all \"B\" grade tricks or worse. The big moment, where the main character rides \"the goat\", a man-killer ski run, did provide one shot where a small avalanche eats the stuntman. This was the best of the boarding in this movie. Any serious snowboarding fan will be disappointed with the quality of the stunts in the movie. As for the technical aspects of the movie, the soundtrack was average, which surprises, as those snowboarding documentaries are regularly filled with quality tunes. You can catch a lot of editing mistakes and even though it was shot on a ski mountain, the majority of \"scenery\" shots failed to convey any sense of true size. Overall, it MIGHT be worth watching if you have managed to turn your brain completely off and you like silicon breasts. Even then, you wont remember a thing from this one two days later. Snowboarding is still waiting for it's definitive comedy, you'd do better to watch a snowboarding documentary for sure.\n",
            "標籤label: 負面的 預測結果: 負面的\n"
          ]
        }
      ],
      "source": [
        "display_test_Sentiment(12502)"
      ]
    },
    {
      "cell_type": "code",
      "execution_count": null,
      "metadata": {
        "collapsed": true,
        "id": "3EO39turni7H"
      },
      "outputs": [],
      "source": [
        "#預測新的影評"
      ]
    },
    {
      "cell_type": "code",
      "execution_count": null,
      "metadata": {
        "collapsed": true,
        "id": "JQ_fOHLcni7K"
      },
      "outputs": [],
      "source": [
        "input_text='''\n",
        "Oh dear, oh dear, oh dear: where should I start folks. I had low expectations already because I hated each and every single trailer so far, but boy did Disney make a blunder here. I'm sure the film will still make a billion dollars - hey: if Transformers 11 can do it, why not Belle? - but this film kills every subtle beautiful little thing that had made the original special, and it does so already in the very early stages. It's like the dinosaur stampede scene in Jackson's King Kong: only with even worse CGI (and, well, kitchen devices instead of dinos).\n",
        "The worst sin, though, is that everything (and I mean really EVERYTHING) looks fake. What's the point of making a live-action version of a beloved cartoon if you make every prop look like a prop? I know it's a fairy tale for kids, but even Belle's village looks like it had only recently been put there by a subpar production designer trying to copy the images from the cartoon. There is not a hint of authenticity here. Unlike in Jungle Book, where we got great looking CGI, this really is the by-the-numbers version and corporate filmmaking at its worst. Of course it's not really a \"bad\" film; those 200 million blockbusters rarely are (this isn't 'The Room' after all), but it's so infuriatingly generic and dull - and it didn't have to be. In the hands of a great director the potential for this film would have been huge.\n",
        "Oh and one more thing: bad CGI wolves (who actually look even worse than the ones in Twilight) is one thing, and the kids probably won't care. But making one of the two lead characters - Beast - look equally bad is simply unforgivably stupid. No wonder Emma Watson seems to phone it in: she apparently had to act against an guy with a green-screen in the place where his face should have been. \n",
        "'''"
      ]
    },
    {
      "cell_type": "code",
      "execution_count": null,
      "metadata": {
        "collapsed": true,
        "id": "52STTKcNni7K"
      },
      "outputs": [],
      "source": [
        "input_seq = token.texts_to_sequences([input_text])"
      ]
    },
    {
      "cell_type": "code",
      "execution_count": null,
      "metadata": {
        "id": "ClDJW-DMni7K",
        "colab": {
          "base_uri": "https://localhost:8080/"
        },
        "outputId": "e1e8b84c-7d5b-455d-f92f-307d7a51d46c"
      },
      "outputs": [
        {
          "output_type": "execute_result",
          "data": {
            "text/plain": [
              "285"
            ]
          },
          "metadata": {},
          "execution_count": 161
        }
      ],
      "source": [
        "len(input_seq[0])"
      ]
    },
    {
      "cell_type": "code",
      "execution_count": null,
      "metadata": {
        "collapsed": true,
        "id": "Us10JPbZni7K"
      },
      "outputs": [],
      "source": [
        "pad_input_seq = pad_sequences(input_seq , maxlen=100)"
      ]
    },
    {
      "cell_type": "code",
      "execution_count": null,
      "metadata": {
        "id": "hMEAIzPdni7L",
        "colab": {
          "base_uri": "https://localhost:8080/"
        },
        "outputId": "25136110-ec2c-44e1-b0ed-d292577a7765"
      },
      "outputs": [
        {
          "output_type": "stream",
          "name": "stdout",
          "text": [
            "[[  22   10  214 1052   99   28   17   41   34    2  749    2    8  156\n",
            "    24    5   25    7    1  953    4    3   83  163    1  982   14   10\n",
            "    18   58   24   73  662  445    2   27   49  151   75 1681   33  161\n",
            "   164   56  429   70    1  661    7    6   27  151    2    1  358  238\n",
            "   524  453   17  227   27    4    1  103  482  101  164 1300   75    6\n",
            "   327  375   53  590  182    5 1694    8    7   55  682   65    5  507\n",
            "   425   31  229   15    3 1413  264    7    1  269  117   23  389  140\n",
            "    24   73]]\n"
          ]
        }
      ],
      "source": [
        "print(pad_input_seq)"
      ]
    },
    {
      "cell_type": "code",
      "execution_count": null,
      "metadata": {
        "id": "si6HYT-xni7L",
        "colab": {
          "base_uri": "https://localhost:8080/"
        },
        "outputId": "4dae2002-fc1f-4e75-cbcb-f244de8d2be7"
      },
      "outputs": [
        {
          "output_type": "stream",
          "name": "stdout",
          "text": [
            "負面的\n"
          ]
        }
      ],
      "source": [
        "predicted_label = int(round(predict_result[0][0]))\n",
        "sentiment = SentimentDict[predicted_label]\n",
        "print(sentiment)"
      ]
    },
    {
      "cell_type": "code",
      "execution_count": null,
      "metadata": {
        "collapsed": true,
        "id": "DLSWKs9uni7M"
      },
      "outputs": [],
      "source": [
        "from tensorflow.keras.preprocessing.sequence import pad_sequences\n",
        "\n",
        "def predict_review(input_text):\n",
        "    input_seq = token.texts_to_sequences([input_text])\n",
        "    pad_input_seq = pad_sequences(input_seq, maxlen=100)\n",
        "    predict_result = model.predict(pad_input_seq)\n",
        "    sentiment_value = predict_result[0][0]  # Extract scalar value from the NumPy array\n",
        "    predicted_label = int(round(sentiment_value))\n",
        "    sentiment = SentimentDict.get(predicted_label, \"Unknown\")\n",
        "    print(sentiment)"
      ]
    },
    {
      "cell_type": "code",
      "execution_count": null,
      "metadata": {
        "collapsed": true,
        "id": "BPnSmBkqni7M"
      },
      "outputs": [],
      "source": [
        "#http://www.imdb.com/title/tt2771200"
      ]
    },
    {
      "cell_type": "code",
      "execution_count": null,
      "metadata": {
        "id": "7Tkj-3Ndni7M",
        "colab": {
          "base_uri": "https://localhost:8080/"
        },
        "outputId": "62f84e93-42e3-4e30-9bb3-6b6f6f640358"
      },
      "outputs": [
        {
          "output_type": "stream",
          "name": "stdout",
          "text": [
            "1/1 [==============================] - 0s 24ms/step\n",
            "負面的\n"
          ]
        }
      ],
      "source": [
        "predict_review('''\n",
        "It's hard to believe that the same talented director who made the influential cult action classic The Road Warrior had anything to do with this disaster.\n",
        "Road Warrior was raw, gritty, violent and uncompromising, and this movie is the exact opposite. It's like Road Warrior for kids who need constant action in their movies.\n",
        "This is the movie. The good guys get into a fight with the bad guys, outrun them, they break down in their vehicle and fix it. Rinse and repeat. The second half of the movie is the first half again just done faster.\n",
        "The Road Warrior may have been a simple premise but it made you feel something, even with it's opening narration before any action was even shown. And the supporting characters were given just enough time for each of them to be likable or relatable.\n",
        "In this movie there is absolutely nothing and no one to care about. We're supposed to care about the characters because... well we should. George Miller just wants us to, and in one of the most cringe worthy moments Charlize Theron's character breaks down while dramatic music plays to try desperately to make us care.\n",
        "Tom Hardy is pathetic as Max. One of the dullest leading men I've seen in a long time. There's not one single moment throughout the entire movie where he comes anywhere near reaching the same level of charisma Mel Gibson did in the role. Gibson made more of an impression just eating a tin of dog food. I'm still confused as to what accent Hardy was even trying to do.\n",
        "I was amazed that Max has now become a cartoon character as well. Gibson's Max was a semi-realistic tough guy who hurt, bled, and nearly died several times. Now he survives car crashes and tornadoes with ease?\n",
        "In the previous movies, fuel and guns and bullets were rare. Not anymore. It doesn't even seem Post-Apocalyptic. There's no sense of desperation anymore and everything is too glossy looking. And the main villain's super model looking wives with their perfect skin are about as convincing as apocalyptic survivors as Hardy's Australian accent is. They're so boring and one-dimensional, George Miller could have combined them all into one character and you wouldn't miss anyone.\n",
        "Some of the green screen is very obvious and fake looking, and the CGI sandstorm is laughably bad. It wouldn't look out of place in a Pixar movie.\n",
        "There's no tension, no real struggle, or any real dirt and grit that Road Warrior had. Everything George Miller got right with that masterpiece he gets completely wrong here. \n",
        "''')"
      ]
    },
    {
      "cell_type": "code",
      "execution_count": null,
      "metadata": {
        "id": "ALE3lnISni7M",
        "colab": {
          "base_uri": "https://localhost:8080/"
        },
        "outputId": "5042bf27-dfd7-4096-a600-f63deaf644f3"
      },
      "outputs": [
        {
          "output_type": "stream",
          "name": "stdout",
          "text": [
            "1/1 [==============================] - 0s 24ms/step\n",
            "負面的\n"
          ]
        }
      ],
      "source": [
        "predict_review('''\n",
        "Sure, I'm a huge film snob who (on the surface) only likes artsy-fartsy foreign films from before the 60's, but that hasn't stopped me from loving Disney's Beauty & The Beast; in fact, it's probably my favorite American animated film and is easily Disney's finest work. It's beautiful, it's breathtaking, it's warm, it's hilarious, it's captivating, and, in Disney fashion, it's magical. When I learned that Disney would be remaking their classic films, B&TB was undeniably the best wrapped package. How could they go wrong?\n",
        "Oh man, they went wrong.\n",
        "First thing's first: this film is so flat. The directing was dull and uninteresting throughout the entire film and it honestly felt like one of the Twilight sequels...and then I looked it up and found out that, yes, director Bill Condon was the man behind Breaking Dawn parts 1 & 2. Every shot looks bored and uninterested, which contrasts heavily with the original animated film that was constantly popping with vibrancy. The script too is boring because it's almost a complete remake of the original, though I guess most people won't mind that.\n",
        "Next: the CGI is horrid. Although I didn't care for The Jungle Book from last year, I could at least admit that the CGI was breathtaking. The same cant be said for this film. Characters like Lumière, Cogsworth, Mrs Potts, and most of the cursed appliances have very strange, lifeless faces that are pretty off putting to be looking at for such a long time. All of the sets too look artificial and fake, especially the town towards the beginning. However, the biggest offender is easily and infuriatingly the character that mattered most: The Beast. The CGI on the Beast's face is so distracting that it completely takes you out of the film. His eyes are completely devoid of soul, and his mouth is a gaping video game black hole of fiction. Klaus Kinski looked much better in the Faerie Tale Theatre episode of Beauty & The Beast, and that was a 1984 TV show episode. But do you know why it looked better? Because it was an actual face with actual eyes, not some video game computerized synthetic monstrosity. When will studios learn that practical effects will always top CGI?\n",
        "Finally: wasted casting. Emma Watson is beautiful, but she's no Belle. She is completely devoid of the warmth and humanity that made the animated Belle so beloved. Instead, she is cold and heartless throughout most of the film. Kevin Kline is 100% wasted and does nothing except look old. Ian McKellan, Ewan McGregor, Emma Thompson, and even Dan Stevens as the Beast are very expendable and could've been played by anyone else. The only good characters are Gaston and LeFou, mostly because they are fun and played by actors who breathe new life into their original shapes. If anything, this film should've been about Gaston and LeFou, but that would never happen because that would mean Disney couldn't cater to blind nostalgic 90's kids.\n",
        "Overall, this film is a complete bore. It could've been better if even the special effects were good, but the CGI in particular is horrendous. I'm all for Disney remaking their nostalgia- catering 90's films, but they need to be interesting. This film, sadly, is not. Even the Christmas sequel is better than this film because it's at least something. \n",
        "''')"
      ]
    },
    {
      "cell_type": "code",
      "execution_count": null,
      "metadata": {
        "id": "fpgOuJhdni7N",
        "colab": {
          "base_uri": "https://localhost:8080/"
        },
        "outputId": "27a74487-4647-40e6-a955-4b9a1e888a15"
      },
      "outputs": [
        {
          "output_type": "stream",
          "name": "stdout",
          "text": [
            "1/1 [==============================] - 0s 23ms/step\n",
            "正面的\n"
          ]
        }
      ],
      "source": [
        "predict_review('''\n",
        "I was really looking forward to this film. Not only has Disney recently made excellent live-action versions of their animated masterpieces (Jungle Book, Cinderella), but the cast alone (Emma Watson, Ian McKellen, Kevin Kline) already seemed to make this one a sure hit. Well, not so much as it turns out.\n",
        "Some of the animation is fantastic, but because characters like Cogsworth (the clock), Lumière (the candelabra) and Chip (the little tea cup) now look \"realistic\", they lose a lot of their animated predecessors' charm and actually even look kind of creepy at times. And ironically - unlike in the animated original - in this new realistic version they only have very limited facial expressions (which is a creative decision I can't for the life of me understand).\n",
        "Even when it works: there can be too much of a good thing. The film is overstuffed with lush production design and cgi (which is often weirdly artificial looking though) but sadly lacking in charm and genuine emotion. If this were a music album, I'd say it is \"over-produced\" and in need of more soul and swing. The great voice talent in some cases actually seems wasted, because it drowns in a sea of visual effects that numbs all senses. The most crucial thing that didn't work for me, though, is the Beast. He just never looks convincing. The eyes somehow don't look like real eyes and they're always slightly off.\n",
        "On the positive side, I really liked Gaston, and the actor who played him, Luke Evans, actually gave the perhaps most energized performance of all. Kevin Kline as Belle's father has little to do but to look fatherly and old, but he makes the most of his part. Speaking of Belle, now that I've seen the film, I think her role was miscast. I think someone like Rachel McAdams would actually have been a more natural, lively and perhaps a bit more feisty Belle than Emma Watson.\n",
        "If you love the original, you might want to give this one a pass, it's really not that good (although at least the songs were OK). Also, I'd think twice before bringing small children; without cute animated faces, all those \"realistic\" looking creatures and devices can be rather frightening for a child. ''')"
      ]
    },
    {
      "cell_type": "code",
      "execution_count": null,
      "metadata": {
        "id": "PbHPWWHWni7N",
        "colab": {
          "base_uri": "https://localhost:8080/"
        },
        "outputId": "df6293c3-e2bb-40d8-be9b-ae548138c16f"
      },
      "outputs": [
        {
          "output_type": "stream",
          "name": "stdout",
          "text": [
            "1/1 [==============================] - 0s 23ms/step\n",
            "負面的\n"
          ]
        }
      ],
      "source": [
        "predict_review('''\n",
        "Up front: I'm probably not the right audience for this film. I only went because I was invited, and I wouldn't have gone to check this one out otherwise.\n",
        "Firstly, some of the production values are really beautiful and reminded me of the animated classic in a good way. Also, the voice cast for the clock and the kitchen devices are great.\n",
        "Secondly, the actors, well... this may sound kind of harsh, but I've never seen Emma Watson act so stiff in a movie. Her performance is wooden, which is pretty bad considering she's supposed to be the heart of the film. Also, she probably won't start a singing career anytime soon.\n",
        "Thirdly (and most importantly), Beast. That's where they really dropped the ball. Giving him a lifeless CGI face was an unforgivable mistake, and it's such a constant distraction that I could never really get into the movie.\n",
        "Overall, I'm afraid I wouldn't recommend this movie, at least not to adults. I'm sure most kids would enjoy it though, and it's not really a bad film: just a very mediocre one. 6 stars out of 10. \n",
        "''')"
      ]
    },
    {
      "cell_type": "code",
      "execution_count": null,
      "metadata": {
        "id": "4PDMMIjqni7N",
        "colab": {
          "base_uri": "https://localhost:8080/"
        },
        "outputId": "6c6ce73d-c74e-4423-98cd-74f588d53d98"
      },
      "outputs": [
        {
          "output_type": "stream",
          "name": "stdout",
          "text": [
            "1/1 [==============================] - 0s 26ms/step\n",
            "正面的\n"
          ]
        }
      ],
      "source": [
        "predict_review('''\n",
        "Full disclosure, I didn't think the first movie was as bad as it was made out to be. It wasn't good in almost any sense, but it was to be expected given the combination of source material, resources and constraints.\n",
        "That said, this sequel is 20x better than the first. Having established the characters in the first movie, the actors seem to be able to act now comfortably in their parts. The story becomes much more nuanced with plenty of dynamics on the go.\n",
        "SPOILERS from now on\n",
        "Can they maintain a \"vanilla\" relationship? Is he going to become controlling again and ruin things? Will she let it get out of control and ruin things also or stay on it? Who is that stalky girl and what happened to her exactly? what about his mother? and that ex of his? Will something occur with her infatuated boss?\n",
        "On top of all of this, I realised while watching that the series was never about a bizarre sadist control freak, it's actually about all men and the story of a woman trying to find the balance between accepting or desiring the dominant behaviour of the male archetype and maintaining strength and independence in such a relationship.\n",
        "While of course the fact that he is rich, while possibly relating to the power struggle, looks like it is going to be more and more used for generating further drama. The romance is much more evident in this movie to/ \n",
        "''')"
      ]
    },
    {
      "cell_type": "markdown",
      "metadata": {
        "id": "vlAAV_u5ni7O"
      },
      "source": [
        "# serialize model to JSON"
      ]
    },
    {
      "cell_type": "code",
      "execution_count": null,
      "metadata": {
        "id": "WgRZpwBgni7O",
        "colab": {
          "base_uri": "https://localhost:8080/"
        },
        "outputId": "b9e100fc-c549-45ec-ac13-a01198b684f5"
      },
      "outputs": [
        {
          "output_type": "stream",
          "name": "stdout",
          "text": [
            "Saved model to disk\n"
          ]
        }
      ],
      "source": [
        "# Create the directory if it doesn't exist\n",
        "save_dir = \"SaveModel\"\n",
        "os.makedirs(save_dir, exist_ok=True)\n",
        "\n",
        "# Save the model JSON\n",
        "model_json = model.to_json()\n",
        "with open(os.path.join(save_dir, \"Imdb_RNN_model.json\"), \"w\") as json_file:\n",
        "    json_file.write(model_json)\n",
        "\n",
        "# Save the model weights\n",
        "model.save_weights(os.path.join(save_dir, \"Imdb_RNN_model.h5\"))\n",
        "print(\"Saved model to disk\")"
      ]
    }
  ],
  "metadata": {
    "anaconda-cloud": {},
    "kernelspec": {
      "display_name": "Python 3",
      "language": "python",
      "name": "python3"
    },
    "language_info": {
      "codemirror_mode": {
        "name": "ipython",
        "version": 3
      },
      "file_extension": ".py",
      "mimetype": "text/x-python",
      "name": "python",
      "nbconvert_exporter": "python",
      "pygments_lexer": "ipython3",
      "version": "3.5.3"
    },
    "colab": {
      "provenance": [],
      "collapsed_sections": [
        "DFCEUM7ini68"
      ]
    }
  },
  "nbformat": 4,
  "nbformat_minor": 0
}
