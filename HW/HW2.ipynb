{
 "cells": [
  {
   "cell_type": "code",
   "execution_count": 29,
   "id": "b895e23d",
   "metadata": {},
   "outputs": [
    {
     "name": "stdout",
     "output_type": "stream",
     "text": [
      "Best Path: [(0, 0), (0, 1), (1, 2), (1, 3), (2, 3), (2, 2), (3, 3), (3, 2), (3, 1), (2, 1), (1, 1), (1, 0)]\n",
      "Best Length: 11.82842712474619\n"
     ]
    }
   ],
   "source": [
    "import math\n",
    "import random\n",
    "\n",
    "def distance(a, b):\n",
    "    \"\"\"\n",
    "    計算兩點之間的距離\n",
    "    :param a: 點A的座標 (x, y)\n",
    "    :param b: 點B的座標 (x, y)\n",
    "    :return: 兩點之間的距離\n",
    "    \"\"\"\n",
    "    dx = a[0] - b[0]\n",
    "    dy = a[1] - b[1]\n",
    "    return math.sqrt(dx ** 2 + dy ** 2)\n",
    "\n",
    "def reverse_segment(tour, i, j):\n",
    "    \"\"\"\n",
    "    對一個圓形的子序列進行翻轉\n",
    "    :param tour: 旅行推銷員的路徑\n",
    "    :param i: 子序列的起始點的索引\n",
    "    :param j: 子序列的終點的索引\n",
    "    :return: 翻轉後的路徑\n",
    "    \"\"\"\n",
    "    while i < j:\n",
    "        tour[i], tour[j] = tour[j], tour[i]\n",
    "        i += 1\n",
    "        j -= 1\n",
    "    return tour\n",
    "\n",
    "def tsp_solver(points):\n",
    "    \"\"\"\n",
    "    使用2-opt方法解決旅行推銷員問題\n",
    "    :param points: 輸入的點的座標列表，每個點的座標為 (x, y)\n",
    "    :return: 最佳路徑的座標列表，最短路徑的長度\n",
    "    \"\"\"\n",
    "    n = len(points)\n",
    "    tour = list(range(n))  # 初始路徑為順序訪問所有點\n",
    "    best_tour = tour[:]  # 最佳路徑的複製\n",
    "    best_length = float('inf')  # 最短路徑的初始值設為無窮大\n",
    "\n",
    "    improvement = True\n",
    "    while improvement:\n",
    "        improvement = False\n",
    "        for i in range(1, n - 2):\n",
    "            for j in range(i + 1, n):\n",
    "                if j - i == 1:  # 子序列不能只有相鄰的兩個點\n",
    "                    continue\n",
    "                new_tour = tour[:]\n",
    "                new_tour = reverse_segment(new_tour, i, j)  # 對子序列進行翻轉\n",
    "                new_length = sum(distance(points[new_tour[k]], points[new_tour[k + 1]]) for k in range(n - 1))\n",
    "                if new_length < best_length:\n",
    "                    best_tour = new_tour[:]\n",
    "                    best_length = new_length\n",
    "                    improvement = True\n",
    "\n",
    "        tour = best_tour\n",
    "\n",
    "    return [points[i] for i in best_tour], best_length\n",
    "\n",
    "# 測試資料\n",
    "points = [(0, 0), (1, 1), (2, 2), (3, 3), (1, 0), (0, 1), (1, 2), (2, 1), (1, 3), (3, 1), (2, 3), (3, 2)]\n",
    "\n",
    "best_path, best_length = tsp_solver(points)\n",
    "print(\"Best Path:\", best_path)\n",
    "print(\"Best Length:\", best_length)\n"
   ]
  },
  {
   "cell_type": "code",
   "execution_count": null,
   "id": "615db257",
   "metadata": {},
   "outputs": [],
   "source": []
  }
 ],
 "metadata": {
  "kernelspec": {
   "display_name": "Python 3 (ipykernel)",
   "language": "python",
   "name": "python3"
  },
  "language_info": {
   "codemirror_mode": {
    "name": "ipython",
    "version": 3
   },
   "file_extension": ".py",
   "mimetype": "text/x-python",
   "name": "python",
   "nbconvert_exporter": "python",
   "pygments_lexer": "ipython3",
   "version": "3.10.9"
  }
 },
 "nbformat": 4,
 "nbformat_minor": 5
}
